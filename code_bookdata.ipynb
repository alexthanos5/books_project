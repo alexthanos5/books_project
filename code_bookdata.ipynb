{
 "cells": [
  {
   "cell_type": "code",
   "execution_count": 1,
   "id": "7e7508ef",
   "metadata": {},
   "outputs": [],
   "source": [
    "import pandas as pd\n",
    "import numpy as np\n",
    "import matplotlib.pyplot as plt\n",
    "import seaborn as sns\n",
    "pd.set_option('display.max_columns', None)\n",
    "from datetime import datetime, timedelta"
   ]
  },
  {
   "cell_type": "markdown",
   "id": "efa4d8ab",
   "metadata": {},
   "source": [
    "# Cleaning"
   ]
  },
  {
   "cell_type": "code",
   "execution_count": 31,
   "id": "d1406150",
   "metadata": {},
   "outputs": [],
   "source": [
    "df = pd.read_csv('kindle_data-v2.csv')"
   ]
  },
  {
   "cell_type": "code",
   "execution_count": 3,
   "id": "5151e446",
   "metadata": {},
   "outputs": [
    {
     "data": {
      "text/html": [
       "<div>\n",
       "<style scoped>\n",
       "    .dataframe tbody tr th:only-of-type {\n",
       "        vertical-align: middle;\n",
       "    }\n",
       "\n",
       "    .dataframe tbody tr th {\n",
       "        vertical-align: top;\n",
       "    }\n",
       "\n",
       "    .dataframe thead th {\n",
       "        text-align: right;\n",
       "    }\n",
       "</style>\n",
       "<table border=\"1\" class=\"dataframe\">\n",
       "  <thead>\n",
       "    <tr style=\"text-align: right;\">\n",
       "      <th></th>\n",
       "      <th>asin</th>\n",
       "      <th>title</th>\n",
       "      <th>author</th>\n",
       "      <th>soldBy</th>\n",
       "      <th>imgUrl</th>\n",
       "      <th>productURL</th>\n",
       "      <th>stars</th>\n",
       "      <th>reviews</th>\n",
       "      <th>price</th>\n",
       "      <th>isKindleUnlimited</th>\n",
       "      <th>category_id</th>\n",
       "      <th>isBestSeller</th>\n",
       "      <th>isEditorsPick</th>\n",
       "      <th>isGoodReadsChoice</th>\n",
       "      <th>publishedDate</th>\n",
       "      <th>category_name</th>\n",
       "    </tr>\n",
       "  </thead>\n",
       "  <tbody>\n",
       "    <tr>\n",
       "      <th>0</th>\n",
       "      <td>B00TZE87S4</td>\n",
       "      <td>Adult Children of Emotionally Immature Parents...</td>\n",
       "      <td>Lindsay C. Gibson</td>\n",
       "      <td>Amazon.com Services LLC</td>\n",
       "      <td>https://m.media-amazon.com/images/I/713KZTsaYp...</td>\n",
       "      <td>https://www.amazon.com/dp/B00TZE87S4</td>\n",
       "      <td>4.8</td>\n",
       "      <td>0</td>\n",
       "      <td>9.99</td>\n",
       "      <td>False</td>\n",
       "      <td>6</td>\n",
       "      <td>True</td>\n",
       "      <td>False</td>\n",
       "      <td>False</td>\n",
       "      <td>2015-06-01</td>\n",
       "      <td>Parenting &amp; Relationships</td>\n",
       "    </tr>\n",
       "    <tr>\n",
       "      <th>1</th>\n",
       "      <td>B08WCKY8MB</td>\n",
       "      <td>From Strength to Strength: Finding Success, Ha...</td>\n",
       "      <td>Arthur C. Brooks</td>\n",
       "      <td>Penguin Group (USA) LLC</td>\n",
       "      <td>https://m.media-amazon.com/images/I/A1LZcJFs9E...</td>\n",
       "      <td>https://www.amazon.com/dp/B08WCKY8MB</td>\n",
       "      <td>4.4</td>\n",
       "      <td>0</td>\n",
       "      <td>16.99</td>\n",
       "      <td>False</td>\n",
       "      <td>6</td>\n",
       "      <td>False</td>\n",
       "      <td>False</td>\n",
       "      <td>False</td>\n",
       "      <td>2022-02-15</td>\n",
       "      <td>Parenting &amp; Relationships</td>\n",
       "    </tr>\n",
       "    <tr>\n",
       "      <th>2</th>\n",
       "      <td>B09KPS84CJ</td>\n",
       "      <td>Good Inside: A Guide to Becoming the Parent Yo...</td>\n",
       "      <td>Becky Kennedy</td>\n",
       "      <td>HarperCollins Publishers</td>\n",
       "      <td>https://m.media-amazon.com/images/I/71RIWM0sv6...</td>\n",
       "      <td>https://www.amazon.com/dp/B09KPS84CJ</td>\n",
       "      <td>4.8</td>\n",
       "      <td>0</td>\n",
       "      <td>16.99</td>\n",
       "      <td>False</td>\n",
       "      <td>6</td>\n",
       "      <td>False</td>\n",
       "      <td>True</td>\n",
       "      <td>False</td>\n",
       "      <td>2022-09-13</td>\n",
       "      <td>Parenting &amp; Relationships</td>\n",
       "    </tr>\n",
       "    <tr>\n",
       "      <th>3</th>\n",
       "      <td>B07S7QPG6J</td>\n",
       "      <td>Everything I Know About Love: A Memoir</td>\n",
       "      <td>Dolly Alderton</td>\n",
       "      <td>HarperCollins Publishers</td>\n",
       "      <td>https://m.media-amazon.com/images/I/71QdQpTiKZ...</td>\n",
       "      <td>https://www.amazon.com/dp/B07S7QPG6J</td>\n",
       "      <td>4.2</td>\n",
       "      <td>0</td>\n",
       "      <td>9.95</td>\n",
       "      <td>True</td>\n",
       "      <td>6</td>\n",
       "      <td>False</td>\n",
       "      <td>True</td>\n",
       "      <td>False</td>\n",
       "      <td>2020-02-25</td>\n",
       "      <td>Parenting &amp; Relationships</td>\n",
       "    </tr>\n",
       "    <tr>\n",
       "      <th>4</th>\n",
       "      <td>B00N6PEQV0</td>\n",
       "      <td>The Seven Principles for Making Marriage Work:...</td>\n",
       "      <td>John Gottman</td>\n",
       "      <td>Random House LLC</td>\n",
       "      <td>https://m.media-amazon.com/images/I/813o4WOs+w...</td>\n",
       "      <td>https://www.amazon.com/dp/B00N6PEQV0</td>\n",
       "      <td>4.7</td>\n",
       "      <td>0</td>\n",
       "      <td>13.99</td>\n",
       "      <td>False</td>\n",
       "      <td>6</td>\n",
       "      <td>False</td>\n",
       "      <td>False</td>\n",
       "      <td>False</td>\n",
       "      <td>2015-05-05</td>\n",
       "      <td>Parenting &amp; Relationships</td>\n",
       "    </tr>\n",
       "  </tbody>\n",
       "</table>\n",
       "</div>"
      ],
      "text/plain": [
       "         asin                                              title  \\\n",
       "0  B00TZE87S4  Adult Children of Emotionally Immature Parents...   \n",
       "1  B08WCKY8MB  From Strength to Strength: Finding Success, Ha...   \n",
       "2  B09KPS84CJ  Good Inside: A Guide to Becoming the Parent Yo...   \n",
       "3  B07S7QPG6J             Everything I Know About Love: A Memoir   \n",
       "4  B00N6PEQV0  The Seven Principles for Making Marriage Work:...   \n",
       "\n",
       "              author                    soldBy  \\\n",
       "0  Lindsay C. Gibson   Amazon.com Services LLC   \n",
       "1   Arthur C. Brooks   Penguin Group (USA) LLC   \n",
       "2      Becky Kennedy  HarperCollins Publishers   \n",
       "3     Dolly Alderton  HarperCollins Publishers   \n",
       "4       John Gottman          Random House LLC   \n",
       "\n",
       "                                              imgUrl  \\\n",
       "0  https://m.media-amazon.com/images/I/713KZTsaYp...   \n",
       "1  https://m.media-amazon.com/images/I/A1LZcJFs9E...   \n",
       "2  https://m.media-amazon.com/images/I/71RIWM0sv6...   \n",
       "3  https://m.media-amazon.com/images/I/71QdQpTiKZ...   \n",
       "4  https://m.media-amazon.com/images/I/813o4WOs+w...   \n",
       "\n",
       "                             productURL  stars  reviews  price  \\\n",
       "0  https://www.amazon.com/dp/B00TZE87S4    4.8        0   9.99   \n",
       "1  https://www.amazon.com/dp/B08WCKY8MB    4.4        0  16.99   \n",
       "2  https://www.amazon.com/dp/B09KPS84CJ    4.8        0  16.99   \n",
       "3  https://www.amazon.com/dp/B07S7QPG6J    4.2        0   9.95   \n",
       "4  https://www.amazon.com/dp/B00N6PEQV0    4.7        0  13.99   \n",
       "\n",
       "   isKindleUnlimited  category_id  isBestSeller  isEditorsPick  \\\n",
       "0              False            6          True          False   \n",
       "1              False            6         False          False   \n",
       "2              False            6         False           True   \n",
       "3               True            6         False           True   \n",
       "4              False            6         False          False   \n",
       "\n",
       "   isGoodReadsChoice publishedDate              category_name  \n",
       "0              False    2015-06-01  Parenting & Relationships  \n",
       "1              False    2022-02-15  Parenting & Relationships  \n",
       "2              False    2022-09-13  Parenting & Relationships  \n",
       "3              False    2020-02-25  Parenting & Relationships  \n",
       "4              False    2015-05-05  Parenting & Relationships  "
      ]
     },
     "execution_count": 3,
     "metadata": {},
     "output_type": "execute_result"
    }
   ],
   "source": [
    "df.head()"
   ]
  },
  {
   "cell_type": "code",
   "execution_count": 4,
   "id": "d0f5c0df",
   "metadata": {},
   "outputs": [
    {
     "name": "stdout",
     "output_type": "stream",
     "text": [
      "<class 'pandas.core.frame.DataFrame'>\n",
      "RangeIndex: 133102 entries, 0 to 133101\n",
      "Data columns (total 16 columns):\n",
      " #   Column             Non-Null Count   Dtype  \n",
      "---  ------             --------------   -----  \n",
      " 0   asin               133102 non-null  object \n",
      " 1   title              133102 non-null  object \n",
      " 2   author             132677 non-null  object \n",
      " 3   soldBy             123869 non-null  object \n",
      " 4   imgUrl             133102 non-null  object \n",
      " 5   productURL         133102 non-null  object \n",
      " 6   stars              133102 non-null  float64\n",
      " 7   reviews            133102 non-null  int64  \n",
      " 8   price              133102 non-null  float64\n",
      " 9   isKindleUnlimited  133102 non-null  bool   \n",
      " 10  category_id        133102 non-null  int64  \n",
      " 11  isBestSeller       133102 non-null  bool   \n",
      " 12  isEditorsPick      133102 non-null  bool   \n",
      " 13  isGoodReadsChoice  133102 non-null  bool   \n",
      " 14  publishedDate      84086 non-null   object \n",
      " 15  category_name      133102 non-null  object \n",
      "dtypes: bool(4), float64(2), int64(2), object(8)\n",
      "memory usage: 12.7+ MB\n"
     ]
    }
   ],
   "source": [
    "df.info()"
   ]
  },
  {
   "cell_type": "code",
   "execution_count": 5,
   "id": "d3a89da1",
   "metadata": {},
   "outputs": [
    {
     "data": {
      "text/plain": [
       "1402"
      ]
     },
     "execution_count": 5,
     "metadata": {},
     "output_type": "execute_result"
    }
   ],
   "source": [
    "df['isGoodReadsChoice'].sum()"
   ]
  },
  {
   "cell_type": "code",
   "execution_count": 6,
   "id": "0ec3cbd0",
   "metadata": {},
   "outputs": [
    {
     "data": {
      "text/plain": [
       "array(['Parenting & Relationships', 'Engineering & Transportation',\n",
       "       'Science & Math', 'Mystery, Thriller & Suspense',\n",
       "       'Crafts, Hobbies & Home', 'Literature & Fiction',\n",
       "       'Biographies & Memoirs', 'Computers & Technology',\n",
       "       'Politics & Social Sciences', 'Teen & Young Adult',\n",
       "       'Foreign Language', 'Science Fiction & Fantasy', 'Travel',\n",
       "       'LGBTQ+ eBooks', 'Religion & Spirituality', 'Arts & Photo graphy',\n",
       "       'Comics', 'Education & Teaching', 'History',\n",
       "       'Cookbooks, Food & Wine', 'Nonfiction', 'Self-Help', 'Romance',\n",
       "       'Humor & Entertainment', 'Reference', 'Health, Fitness & Dieting',\n",
       "       'Sports & Outdoors', 'Medical', 'Business & Money', 'Law',\n",
       "       \"Children's eBooks\"], dtype=object)"
      ]
     },
     "execution_count": 6,
     "metadata": {},
     "output_type": "execute_result"
    }
   ],
   "source": [
    "df['category_name'].unique()"
   ]
  },
  {
   "cell_type": "code",
   "execution_count": 7,
   "id": "610d7870",
   "metadata": {},
   "outputs": [
    {
     "data": {
      "text/plain": [
       "reviews\n",
       "0         64670\n",
       "1           695\n",
       "2           515\n",
       "3           458\n",
       "4           421\n",
       "          ...  \n",
       "242575        1\n",
       "272608        1\n",
       "289251        1\n",
       "296710        1\n",
       "618227        1\n",
       "Name: reviews, Length: 8441, dtype: int64"
      ]
     },
     "execution_count": 7,
     "metadata": {},
     "output_type": "execute_result"
    }
   ],
   "source": [
    "df.groupby('reviews')['reviews'].count()"
   ]
  },
  {
   "cell_type": "code",
   "execution_count": 8,
   "id": "a6e81261",
   "metadata": {},
   "outputs": [
    {
     "data": {
      "text/plain": [
       "2236"
      ]
     },
     "execution_count": 8,
     "metadata": {},
     "output_type": "execute_result"
    }
   ],
   "source": [
    "df['isBestSeller'].sum()"
   ]
  },
  {
   "cell_type": "code",
   "execution_count": 19,
   "id": "3d6ecae7",
   "metadata": {},
   "outputs": [
    {
     "data": {
      "text/plain": [
       "str"
      ]
     },
     "execution_count": 19,
     "metadata": {},
     "output_type": "execute_result"
    }
   ],
   "source": [
    "type(df['publishedDate'][0])"
   ]
  },
  {
   "cell_type": "code",
   "execution_count": 202,
   "id": "0e5c4a6e",
   "metadata": {},
   "outputs": [],
   "source": [
    "df['publishedDate'] = pd.to_datetime(df['publishedDate'])"
   ]
  },
  {
   "cell_type": "code",
   "execution_count": 27,
   "id": "cfb609c4",
   "metadata": {},
   "outputs": [
    {
     "data": {
      "text/plain": [
       "0          6.0\n",
       "1          2.0\n",
       "2          9.0\n",
       "3          2.0\n",
       "4          5.0\n",
       "          ... \n",
       "133097     9.0\n",
       "133098     9.0\n",
       "133099     9.0\n",
       "133100     8.0\n",
       "133101    10.0\n",
       "Name: publishedDate, Length: 133102, dtype: float64"
      ]
     },
     "execution_count": 27,
     "metadata": {},
     "output_type": "execute_result"
    }
   ],
   "source": [
    "df['publishedDate'].dt.month"
   ]
  },
  {
   "cell_type": "code",
   "execution_count": 34,
   "id": "0c04c6f6",
   "metadata": {},
   "outputs": [
    {
     "data": {
      "text/html": [
       "<div>\n",
       "<style scoped>\n",
       "    .dataframe tbody tr th:only-of-type {\n",
       "        vertical-align: middle;\n",
       "    }\n",
       "\n",
       "    .dataframe tbody tr th {\n",
       "        vertical-align: top;\n",
       "    }\n",
       "\n",
       "    .dataframe thead th {\n",
       "        text-align: right;\n",
       "    }\n",
       "</style>\n",
       "<table border=\"1\" class=\"dataframe\">\n",
       "  <thead>\n",
       "    <tr style=\"text-align: right;\">\n",
       "      <th></th>\n",
       "      <th>asin</th>\n",
       "      <th>title</th>\n",
       "      <th>author</th>\n",
       "      <th>soldBy</th>\n",
       "      <th>imgUrl</th>\n",
       "      <th>productURL</th>\n",
       "      <th>stars</th>\n",
       "      <th>reviews</th>\n",
       "      <th>price</th>\n",
       "      <th>isKindleUnlimited</th>\n",
       "      <th>category_id</th>\n",
       "      <th>isBestSeller</th>\n",
       "      <th>isEditorsPick</th>\n",
       "      <th>isGoodReadsChoice</th>\n",
       "      <th>publishedDate</th>\n",
       "      <th>category_name</th>\n",
       "    </tr>\n",
       "  </thead>\n",
       "  <tbody>\n",
       "    <tr>\n",
       "      <th>33</th>\n",
       "      <td>B017RNBS3A</td>\n",
       "      <td>It Ends With Us: The emotional #1 Sunday Times...</td>\n",
       "      <td>Colleen Hoover</td>\n",
       "      <td>NaN</td>\n",
       "      <td>https://m.media-amazon.com/images/I/817vqET828...</td>\n",
       "      <td>https://www.amazon.com/dp/B017RNBS3A</td>\n",
       "      <td>4.7</td>\n",
       "      <td>0</td>\n",
       "      <td>0.00</td>\n",
       "      <td>False</td>\n",
       "      <td>6</td>\n",
       "      <td>False</td>\n",
       "      <td>False</td>\n",
       "      <td>True</td>\n",
       "      <td>2016-08-02</td>\n",
       "      <td>Parenting &amp; Relationships</td>\n",
       "    </tr>\n",
       "    <tr>\n",
       "      <th>103</th>\n",
       "      <td>B08J1Q5W6X</td>\n",
       "      <td>How Y'all Doing?: Misadventures and Mischief f...</td>\n",
       "      <td>Leslie Jordan</td>\n",
       "      <td>HarperCollins Publishers</td>\n",
       "      <td>https://m.media-amazon.com/images/I/71cUnAghU6...</td>\n",
       "      <td>https://www.amazon.com/dp/B08J1Q5W6X</td>\n",
       "      <td>4.7</td>\n",
       "      <td>0</td>\n",
       "      <td>13.99</td>\n",
       "      <td>False</td>\n",
       "      <td>6</td>\n",
       "      <td>False</td>\n",
       "      <td>False</td>\n",
       "      <td>True</td>\n",
       "      <td>2021-04-27</td>\n",
       "      <td>Parenting &amp; Relationships</td>\n",
       "    </tr>\n",
       "    <tr>\n",
       "      <th>138</th>\n",
       "      <td>B00L9AY254</td>\n",
       "      <td>NeuroTribes: The Legacy of Autism and the Futu...</td>\n",
       "      <td>Steve Silberman</td>\n",
       "      <td>Penguin Group (USA) LLC</td>\n",
       "      <td>https://m.media-amazon.com/images/I/81M63xgtmX...</td>\n",
       "      <td>https://www.amazon.com/dp/B00L9AY254</td>\n",
       "      <td>4.7</td>\n",
       "      <td>0</td>\n",
       "      <td>9.99</td>\n",
       "      <td>False</td>\n",
       "      <td>6</td>\n",
       "      <td>False</td>\n",
       "      <td>False</td>\n",
       "      <td>True</td>\n",
       "      <td>2015-08-25</td>\n",
       "      <td>Parenting &amp; Relationships</td>\n",
       "    </tr>\n",
       "    <tr>\n",
       "      <th>153</th>\n",
       "      <td>B088Q9X35M</td>\n",
       "      <td>Finding Freedom: A Cook's Story; Remaking a Li...</td>\n",
       "      <td>Erin French</td>\n",
       "      <td>Macmillan</td>\n",
       "      <td>https://m.media-amazon.com/images/I/81pxl47PSD...</td>\n",
       "      <td>https://www.amazon.com/dp/B088Q9X35M</td>\n",
       "      <td>4.6</td>\n",
       "      <td>0</td>\n",
       "      <td>2.99</td>\n",
       "      <td>False</td>\n",
       "      <td>6</td>\n",
       "      <td>False</td>\n",
       "      <td>False</td>\n",
       "      <td>True</td>\n",
       "      <td>2021-04-06</td>\n",
       "      <td>Parenting &amp; Relationships</td>\n",
       "    </tr>\n",
       "    <tr>\n",
       "      <th>235</th>\n",
       "      <td>B07Q4LSNVB</td>\n",
       "      <td>Before and After: The Incredible Real-Life Sto...</td>\n",
       "      <td>Judy Christie</td>\n",
       "      <td>Random House LLC</td>\n",
       "      <td>https://m.media-amazon.com/images/I/91qRMS2FHs...</td>\n",
       "      <td>https://www.amazon.com/dp/B07Q4LSNVB</td>\n",
       "      <td>4.5</td>\n",
       "      <td>0</td>\n",
       "      <td>9.99</td>\n",
       "      <td>False</td>\n",
       "      <td>6</td>\n",
       "      <td>False</td>\n",
       "      <td>False</td>\n",
       "      <td>True</td>\n",
       "      <td>2019-10-22</td>\n",
       "      <td>Parenting &amp; Relationships</td>\n",
       "    </tr>\n",
       "    <tr>\n",
       "      <th>...</th>\n",
       "      <td>...</td>\n",
       "      <td>...</td>\n",
       "      <td>...</td>\n",
       "      <td>...</td>\n",
       "      <td>...</td>\n",
       "      <td>...</td>\n",
       "      <td>...</td>\n",
       "      <td>...</td>\n",
       "      <td>...</td>\n",
       "      <td>...</td>\n",
       "      <td>...</td>\n",
       "      <td>...</td>\n",
       "      <td>...</td>\n",
       "      <td>...</td>\n",
       "      <td>...</td>\n",
       "      <td>...</td>\n",
       "    </tr>\n",
       "    <tr>\n",
       "      <th>132626</th>\n",
       "      <td>1616550546</td>\n",
       "      <td>Avatar: The Last Airbender: The Search, Part 1</td>\n",
       "      <td>Gene Luen Yang</td>\n",
       "      <td>NaN</td>\n",
       "      <td>https://m.media-amazon.com/images/I/91oI77sQQV...</td>\n",
       "      <td>https://www.amazon.com/dp/1616550546</td>\n",
       "      <td>4.8</td>\n",
       "      <td>0</td>\n",
       "      <td>8.58</td>\n",
       "      <td>False</td>\n",
       "      <td>25</td>\n",
       "      <td>False</td>\n",
       "      <td>False</td>\n",
       "      <td>True</td>\n",
       "      <td>2013-03-19</td>\n",
       "      <td>Children's eBooks</td>\n",
       "    </tr>\n",
       "    <tr>\n",
       "      <th>132759</th>\n",
       "      <td>0061961108</td>\n",
       "      <td>The Familiars (Familiars, 1)</td>\n",
       "      <td>Adam Jay Epstein</td>\n",
       "      <td>NaN</td>\n",
       "      <td>https://m.media-amazon.com/images/I/91QkwOAKC2...</td>\n",
       "      <td>https://www.amazon.com/dp/0061961108</td>\n",
       "      <td>4.7</td>\n",
       "      <td>0</td>\n",
       "      <td>9.99</td>\n",
       "      <td>False</td>\n",
       "      <td>25</td>\n",
       "      <td>False</td>\n",
       "      <td>False</td>\n",
       "      <td>True</td>\n",
       "      <td>2011-06-07</td>\n",
       "      <td>Children's eBooks</td>\n",
       "    </tr>\n",
       "    <tr>\n",
       "      <th>132947</th>\n",
       "      <td>1452126992</td>\n",
       "      <td>I Wish You More</td>\n",
       "      <td>Amy Krouse Rosenthal</td>\n",
       "      <td>NaN</td>\n",
       "      <td>https://m.media-amazon.com/images/I/911aSe-+Oe...</td>\n",
       "      <td>https://www.amazon.com/dp/1452126992</td>\n",
       "      <td>4.8</td>\n",
       "      <td>0</td>\n",
       "      <td>7.83</td>\n",
       "      <td>True</td>\n",
       "      <td>25</td>\n",
       "      <td>False</td>\n",
       "      <td>False</td>\n",
       "      <td>True</td>\n",
       "      <td>2015-03-31</td>\n",
       "      <td>Children's eBooks</td>\n",
       "    </tr>\n",
       "    <tr>\n",
       "      <th>132955</th>\n",
       "      <td>B00A7G7IQQ</td>\n",
       "      <td>Trust No One: The 39 Clues: Cahills vs. Vesper...</td>\n",
       "      <td>Linda Sue Park</td>\n",
       "      <td>NaN</td>\n",
       "      <td>https://m.media-amazon.com/images/I/9117tZgU7g...</td>\n",
       "      <td>https://www.amazon.com/dp/B00A7G7IQQ</td>\n",
       "      <td>4.7</td>\n",
       "      <td>0</td>\n",
       "      <td>0.00</td>\n",
       "      <td>False</td>\n",
       "      <td>25</td>\n",
       "      <td>False</td>\n",
       "      <td>False</td>\n",
       "      <td>True</td>\n",
       "      <td>NaN</td>\n",
       "      <td>Children's eBooks</td>\n",
       "    </tr>\n",
       "    <tr>\n",
       "      <th>132970</th>\n",
       "      <td>0061998168</td>\n",
       "      <td>Every Thing On It</td>\n",
       "      <td>Shel Silverstein</td>\n",
       "      <td>NaN</td>\n",
       "      <td>https://m.media-amazon.com/images/I/81aAZwhjP1...</td>\n",
       "      <td>https://www.amazon.com/dp/0061998168</td>\n",
       "      <td>4.9</td>\n",
       "      <td>0</td>\n",
       "      <td>11.99</td>\n",
       "      <td>False</td>\n",
       "      <td>25</td>\n",
       "      <td>False</td>\n",
       "      <td>False</td>\n",
       "      <td>True</td>\n",
       "      <td>2011-09-20</td>\n",
       "      <td>Children's eBooks</td>\n",
       "    </tr>\n",
       "  </tbody>\n",
       "</table>\n",
       "<p>566 rows × 16 columns</p>\n",
       "</div>"
      ],
      "text/plain": [
       "              asin                                              title  \\\n",
       "33      B017RNBS3A  It Ends With Us: The emotional #1 Sunday Times...   \n",
       "103     B08J1Q5W6X  How Y'all Doing?: Misadventures and Mischief f...   \n",
       "138     B00L9AY254  NeuroTribes: The Legacy of Autism and the Futu...   \n",
       "153     B088Q9X35M  Finding Freedom: A Cook's Story; Remaking a Li...   \n",
       "235     B07Q4LSNVB  Before and After: The Incredible Real-Life Sto...   \n",
       "...            ...                                                ...   \n",
       "132626  1616550546     Avatar: The Last Airbender: The Search, Part 1   \n",
       "132759  0061961108                       The Familiars (Familiars, 1)   \n",
       "132947  1452126992                                    I Wish You More   \n",
       "132955  B00A7G7IQQ  Trust No One: The 39 Clues: Cahills vs. Vesper...   \n",
       "132970  0061998168                                  Every Thing On It   \n",
       "\n",
       "                      author                    soldBy  \\\n",
       "33            Colleen Hoover                       NaN   \n",
       "103            Leslie Jordan  HarperCollins Publishers   \n",
       "138          Steve Silberman   Penguin Group (USA) LLC   \n",
       "153              Erin French                 Macmillan   \n",
       "235            Judy Christie          Random House LLC   \n",
       "...                      ...                       ...   \n",
       "132626        Gene Luen Yang                       NaN   \n",
       "132759      Adam Jay Epstein                       NaN   \n",
       "132947  Amy Krouse Rosenthal                       NaN   \n",
       "132955        Linda Sue Park                       NaN   \n",
       "132970      Shel Silverstein                       NaN   \n",
       "\n",
       "                                                   imgUrl  \\\n",
       "33      https://m.media-amazon.com/images/I/817vqET828...   \n",
       "103     https://m.media-amazon.com/images/I/71cUnAghU6...   \n",
       "138     https://m.media-amazon.com/images/I/81M63xgtmX...   \n",
       "153     https://m.media-amazon.com/images/I/81pxl47PSD...   \n",
       "235     https://m.media-amazon.com/images/I/91qRMS2FHs...   \n",
       "...                                                   ...   \n",
       "132626  https://m.media-amazon.com/images/I/91oI77sQQV...   \n",
       "132759  https://m.media-amazon.com/images/I/91QkwOAKC2...   \n",
       "132947  https://m.media-amazon.com/images/I/911aSe-+Oe...   \n",
       "132955  https://m.media-amazon.com/images/I/9117tZgU7g...   \n",
       "132970  https://m.media-amazon.com/images/I/81aAZwhjP1...   \n",
       "\n",
       "                                  productURL  stars  reviews  price  \\\n",
       "33      https://www.amazon.com/dp/B017RNBS3A    4.7        0   0.00   \n",
       "103     https://www.amazon.com/dp/B08J1Q5W6X    4.7        0  13.99   \n",
       "138     https://www.amazon.com/dp/B00L9AY254    4.7        0   9.99   \n",
       "153     https://www.amazon.com/dp/B088Q9X35M    4.6        0   2.99   \n",
       "235     https://www.amazon.com/dp/B07Q4LSNVB    4.5        0   9.99   \n",
       "...                                      ...    ...      ...    ...   \n",
       "132626  https://www.amazon.com/dp/1616550546    4.8        0   8.58   \n",
       "132759  https://www.amazon.com/dp/0061961108    4.7        0   9.99   \n",
       "132947  https://www.amazon.com/dp/1452126992    4.8        0   7.83   \n",
       "132955  https://www.amazon.com/dp/B00A7G7IQQ    4.7        0   0.00   \n",
       "132970  https://www.amazon.com/dp/0061998168    4.9        0  11.99   \n",
       "\n",
       "        isKindleUnlimited  category_id  isBestSeller  isEditorsPick  \\\n",
       "33                  False            6         False          False   \n",
       "103                 False            6         False          False   \n",
       "138                 False            6         False          False   \n",
       "153                 False            6         False          False   \n",
       "235                 False            6         False          False   \n",
       "...                   ...          ...           ...            ...   \n",
       "132626              False           25         False          False   \n",
       "132759              False           25         False          False   \n",
       "132947               True           25         False          False   \n",
       "132955              False           25         False          False   \n",
       "132970              False           25         False          False   \n",
       "\n",
       "        isGoodReadsChoice publishedDate              category_name  \n",
       "33                   True    2016-08-02  Parenting & Relationships  \n",
       "103                  True    2021-04-27  Parenting & Relationships  \n",
       "138                  True    2015-08-25  Parenting & Relationships  \n",
       "153                  True    2021-04-06  Parenting & Relationships  \n",
       "235                  True    2019-10-22  Parenting & Relationships  \n",
       "...                   ...           ...                        ...  \n",
       "132626               True    2013-03-19          Children's eBooks  \n",
       "132759               True    2011-06-07          Children's eBooks  \n",
       "132947               True    2015-03-31          Children's eBooks  \n",
       "132955               True           NaN          Children's eBooks  \n",
       "132970               True    2011-09-20          Children's eBooks  \n",
       "\n",
       "[566 rows x 16 columns]"
      ]
     },
     "execution_count": 34,
     "metadata": {},
     "output_type": "execute_result"
    }
   ],
   "source": [
    "df[ (df['reviews'] == 0) & (df['isGoodReadsChoice']==True)]"
   ]
  },
  {
   "cell_type": "code",
   "execution_count": 35,
   "id": "0d372f2b",
   "metadata": {},
   "outputs": [
    {
     "name": "stdout",
     "output_type": "stream",
     "text": [
      "<class 'pandas.core.frame.DataFrame'>\n",
      "RangeIndex: 133102 entries, 0 to 133101\n",
      "Data columns (total 16 columns):\n",
      " #   Column             Non-Null Count   Dtype  \n",
      "---  ------             --------------   -----  \n",
      " 0   asin               133102 non-null  object \n",
      " 1   title              133102 non-null  object \n",
      " 2   author             132677 non-null  object \n",
      " 3   soldBy             123869 non-null  object \n",
      " 4   imgUrl             133102 non-null  object \n",
      " 5   productURL         133102 non-null  object \n",
      " 6   stars              133102 non-null  float64\n",
      " 7   reviews            133102 non-null  int64  \n",
      " 8   price              133102 non-null  float64\n",
      " 9   isKindleUnlimited  133102 non-null  bool   \n",
      " 10  category_id        133102 non-null  int64  \n",
      " 11  isBestSeller       133102 non-null  bool   \n",
      " 12  isEditorsPick      133102 non-null  bool   \n",
      " 13  isGoodReadsChoice  133102 non-null  bool   \n",
      " 14  publishedDate      84086 non-null   object \n",
      " 15  category_name      133102 non-null  object \n",
      "dtypes: bool(4), float64(2), int64(2), object(8)\n",
      "memory usage: 12.7+ MB\n"
     ]
    }
   ],
   "source": [
    "df.info()"
   ]
  },
  {
   "cell_type": "code",
   "execution_count": 28,
   "id": "d4b8d9be",
   "metadata": {
    "scrolled": true
   },
   "outputs": [
    {
     "data": {
      "text/html": [
       "<div>\n",
       "<style scoped>\n",
       "    .dataframe tbody tr th:only-of-type {\n",
       "        vertical-align: middle;\n",
       "    }\n",
       "\n",
       "    .dataframe tbody tr th {\n",
       "        vertical-align: top;\n",
       "    }\n",
       "\n",
       "    .dataframe thead th {\n",
       "        text-align: right;\n",
       "    }\n",
       "</style>\n",
       "<table border=\"1\" class=\"dataframe\">\n",
       "  <thead>\n",
       "    <tr style=\"text-align: right;\">\n",
       "      <th></th>\n",
       "      <th>stars</th>\n",
       "      <th>reviews</th>\n",
       "      <th>price</th>\n",
       "      <th>category_id</th>\n",
       "    </tr>\n",
       "  </thead>\n",
       "  <tbody>\n",
       "    <tr>\n",
       "      <th>count</th>\n",
       "      <td>133102.000000</td>\n",
       "      <td>133102.000000</td>\n",
       "      <td>133102.000000</td>\n",
       "      <td>133102.000000</td>\n",
       "    </tr>\n",
       "    <tr>\n",
       "      <th>mean</th>\n",
       "      <td>4.404090</td>\n",
       "      <td>887.375779</td>\n",
       "      <td>15.134127</td>\n",
       "      <td>16.287111</td>\n",
       "    </tr>\n",
       "    <tr>\n",
       "      <th>std</th>\n",
       "      <td>0.745646</td>\n",
       "      <td>5104.878777</td>\n",
       "      <td>22.254986</td>\n",
       "      <td>8.416924</td>\n",
       "    </tr>\n",
       "    <tr>\n",
       "      <th>min</th>\n",
       "      <td>0.000000</td>\n",
       "      <td>0.000000</td>\n",
       "      <td>0.000000</td>\n",
       "      <td>1.000000</td>\n",
       "    </tr>\n",
       "    <tr>\n",
       "      <th>25%</th>\n",
       "      <td>4.400000</td>\n",
       "      <td>0.000000</td>\n",
       "      <td>4.990000</td>\n",
       "      <td>9.000000</td>\n",
       "    </tr>\n",
       "    <tr>\n",
       "      <th>50%</th>\n",
       "      <td>4.500000</td>\n",
       "      <td>4.000000</td>\n",
       "      <td>9.990000</td>\n",
       "      <td>16.000000</td>\n",
       "    </tr>\n",
       "    <tr>\n",
       "      <th>75%</th>\n",
       "      <td>4.700000</td>\n",
       "      <td>365.000000</td>\n",
       "      <td>14.990000</td>\n",
       "      <td>23.000000</td>\n",
       "    </tr>\n",
       "    <tr>\n",
       "      <th>max</th>\n",
       "      <td>5.000000</td>\n",
       "      <td>618227.000000</td>\n",
       "      <td>682.000000</td>\n",
       "      <td>31.000000</td>\n",
       "    </tr>\n",
       "  </tbody>\n",
       "</table>\n",
       "</div>"
      ],
      "text/plain": [
       "               stars        reviews          price    category_id\n",
       "count  133102.000000  133102.000000  133102.000000  133102.000000\n",
       "mean        4.404090     887.375779      15.134127      16.287111\n",
       "std         0.745646    5104.878777      22.254986       8.416924\n",
       "min         0.000000       0.000000       0.000000       1.000000\n",
       "25%         4.400000       0.000000       4.990000       9.000000\n",
       "50%         4.500000       4.000000       9.990000      16.000000\n",
       "75%         4.700000     365.000000      14.990000      23.000000\n",
       "max         5.000000  618227.000000     682.000000      31.000000"
      ]
     },
     "execution_count": 28,
     "metadata": {},
     "output_type": "execute_result"
    }
   ],
   "source": [
    "df.describe()"
   ]
  },
  {
   "cell_type": "code",
   "execution_count": 38,
   "id": "6162a377",
   "metadata": {},
   "outputs": [
    {
     "data": {
      "text/html": [
       "<div>\n",
       "<style scoped>\n",
       "    .dataframe tbody tr th:only-of-type {\n",
       "        vertical-align: middle;\n",
       "    }\n",
       "\n",
       "    .dataframe tbody tr th {\n",
       "        vertical-align: top;\n",
       "    }\n",
       "\n",
       "    .dataframe thead th {\n",
       "        text-align: right;\n",
       "    }\n",
       "</style>\n",
       "<table border=\"1\" class=\"dataframe\">\n",
       "  <thead>\n",
       "    <tr style=\"text-align: right;\">\n",
       "      <th></th>\n",
       "      <th>stars</th>\n",
       "      <th>reviews</th>\n",
       "      <th>price</th>\n",
       "      <th>category_id</th>\n",
       "    </tr>\n",
       "  </thead>\n",
       "  <tbody>\n",
       "    <tr>\n",
       "      <th>count</th>\n",
       "      <td>2236.000000</td>\n",
       "      <td>2236.000000</td>\n",
       "      <td>2236.000000</td>\n",
       "      <td>2236.000000</td>\n",
       "    </tr>\n",
       "    <tr>\n",
       "      <th>mean</th>\n",
       "      <td>4.491995</td>\n",
       "      <td>1699.806798</td>\n",
       "      <td>7.681248</td>\n",
       "      <td>16.025045</td>\n",
       "    </tr>\n",
       "    <tr>\n",
       "      <th>std</th>\n",
       "      <td>0.366376</td>\n",
       "      <td>6951.964084</td>\n",
       "      <td>6.264738</td>\n",
       "      <td>8.527272</td>\n",
       "    </tr>\n",
       "    <tr>\n",
       "      <th>min</th>\n",
       "      <td>0.000000</td>\n",
       "      <td>0.000000</td>\n",
       "      <td>0.000000</td>\n",
       "      <td>1.000000</td>\n",
       "    </tr>\n",
       "    <tr>\n",
       "      <th>25%</th>\n",
       "      <td>4.400000</td>\n",
       "      <td>0.000000</td>\n",
       "      <td>2.990000</td>\n",
       "      <td>9.000000</td>\n",
       "    </tr>\n",
       "    <tr>\n",
       "      <th>50%</th>\n",
       "      <td>4.500000</td>\n",
       "      <td>30.000000</td>\n",
       "      <td>5.990000</td>\n",
       "      <td>16.000000</td>\n",
       "    </tr>\n",
       "    <tr>\n",
       "      <th>75%</th>\n",
       "      <td>4.700000</td>\n",
       "      <td>687.250000</td>\n",
       "      <td>9.990000</td>\n",
       "      <td>24.000000</td>\n",
       "    </tr>\n",
       "    <tr>\n",
       "      <th>max</th>\n",
       "      <td>5.000000</td>\n",
       "      <td>140043.000000</td>\n",
       "      <td>66.000000</td>\n",
       "      <td>31.000000</td>\n",
       "    </tr>\n",
       "  </tbody>\n",
       "</table>\n",
       "</div>"
      ],
      "text/plain": [
       "             stars        reviews        price  category_id\n",
       "count  2236.000000    2236.000000  2236.000000  2236.000000\n",
       "mean      4.491995    1699.806798     7.681248    16.025045\n",
       "std       0.366376    6951.964084     6.264738     8.527272\n",
       "min       0.000000       0.000000     0.000000     1.000000\n",
       "25%       4.400000       0.000000     2.990000     9.000000\n",
       "50%       4.500000      30.000000     5.990000    16.000000\n",
       "75%       4.700000     687.250000     9.990000    24.000000\n",
       "max       5.000000  140043.000000    66.000000    31.000000"
      ]
     },
     "execution_count": 38,
     "metadata": {},
     "output_type": "execute_result"
    }
   ],
   "source": [
    "df[ df['isBestSeller'] == True].describe()"
   ]
  },
  {
   "cell_type": "code",
   "execution_count": 39,
   "id": "0ce2b6dc",
   "metadata": {},
   "outputs": [
    {
     "data": {
      "text/html": [
       "<div>\n",
       "<style scoped>\n",
       "    .dataframe tbody tr th:only-of-type {\n",
       "        vertical-align: middle;\n",
       "    }\n",
       "\n",
       "    .dataframe tbody tr th {\n",
       "        vertical-align: top;\n",
       "    }\n",
       "\n",
       "    .dataframe thead th {\n",
       "        text-align: right;\n",
       "    }\n",
       "</style>\n",
       "<table border=\"1\" class=\"dataframe\">\n",
       "  <thead>\n",
       "    <tr style=\"text-align: right;\">\n",
       "      <th></th>\n",
       "      <th>stars</th>\n",
       "      <th>reviews</th>\n",
       "      <th>price</th>\n",
       "      <th>category_id</th>\n",
       "    </tr>\n",
       "  </thead>\n",
       "  <tbody>\n",
       "    <tr>\n",
       "      <th>count</th>\n",
       "      <td>1402.000000</td>\n",
       "      <td>1402.000000</td>\n",
       "      <td>1402.000000</td>\n",
       "      <td>1402.00000</td>\n",
       "    </tr>\n",
       "    <tr>\n",
       "      <th>mean</th>\n",
       "      <td>4.511626</td>\n",
       "      <td>7585.153352</td>\n",
       "      <td>9.712682</td>\n",
       "      <td>15.53495</td>\n",
       "    </tr>\n",
       "    <tr>\n",
       "      <th>std</th>\n",
       "      <td>0.195087</td>\n",
       "      <td>19317.844509</td>\n",
       "      <td>4.466948</td>\n",
       "      <td>7.63341</td>\n",
       "    </tr>\n",
       "    <tr>\n",
       "      <th>min</th>\n",
       "      <td>3.600000</td>\n",
       "      <td>0.000000</td>\n",
       "      <td>0.000000</td>\n",
       "      <td>1.00000</td>\n",
       "    </tr>\n",
       "    <tr>\n",
       "      <th>25%</th>\n",
       "      <td>4.400000</td>\n",
       "      <td>0.000000</td>\n",
       "      <td>7.990000</td>\n",
       "      <td>9.00000</td>\n",
       "    </tr>\n",
       "    <tr>\n",
       "      <th>50%</th>\n",
       "      <td>4.500000</td>\n",
       "      <td>1534.000000</td>\n",
       "      <td>9.990000</td>\n",
       "      <td>16.00000</td>\n",
       "    </tr>\n",
       "    <tr>\n",
       "      <th>75%</th>\n",
       "      <td>4.700000</td>\n",
       "      <td>6994.500000</td>\n",
       "      <td>12.990000</td>\n",
       "      <td>21.00000</td>\n",
       "    </tr>\n",
       "    <tr>\n",
       "      <th>max</th>\n",
       "      <td>4.900000</td>\n",
       "      <td>296710.000000</td>\n",
       "      <td>28.690000</td>\n",
       "      <td>31.00000</td>\n",
       "    </tr>\n",
       "  </tbody>\n",
       "</table>\n",
       "</div>"
      ],
      "text/plain": [
       "             stars        reviews        price  category_id\n",
       "count  1402.000000    1402.000000  1402.000000   1402.00000\n",
       "mean      4.511626    7585.153352     9.712682     15.53495\n",
       "std       0.195087   19317.844509     4.466948      7.63341\n",
       "min       3.600000       0.000000     0.000000      1.00000\n",
       "25%       4.400000       0.000000     7.990000      9.00000\n",
       "50%       4.500000    1534.000000     9.990000     16.00000\n",
       "75%       4.700000    6994.500000    12.990000     21.00000\n",
       "max       4.900000  296710.000000    28.690000     31.00000"
      ]
     },
     "execution_count": 39,
     "metadata": {},
     "output_type": "execute_result"
    }
   ],
   "source": [
    "df[ df['isGoodReadsChoice'] == True].describe()"
   ]
  },
  {
   "cell_type": "code",
   "execution_count": 40,
   "id": "22587073",
   "metadata": {},
   "outputs": [
    {
     "data": {
      "text/html": [
       "<div>\n",
       "<style scoped>\n",
       "    .dataframe tbody tr th:only-of-type {\n",
       "        vertical-align: middle;\n",
       "    }\n",
       "\n",
       "    .dataframe tbody tr th {\n",
       "        vertical-align: top;\n",
       "    }\n",
       "\n",
       "    .dataframe thead th {\n",
       "        text-align: right;\n",
       "    }\n",
       "</style>\n",
       "<table border=\"1\" class=\"dataframe\">\n",
       "  <thead>\n",
       "    <tr style=\"text-align: right;\">\n",
       "      <th></th>\n",
       "      <th>stars</th>\n",
       "      <th>reviews</th>\n",
       "      <th>price</th>\n",
       "      <th>category_id</th>\n",
       "    </tr>\n",
       "  </thead>\n",
       "  <tbody>\n",
       "    <tr>\n",
       "      <th>count</th>\n",
       "      <td>35815.000000</td>\n",
       "      <td>35815.000000</td>\n",
       "      <td>35815.000000</td>\n",
       "      <td>35815.000000</td>\n",
       "    </tr>\n",
       "    <tr>\n",
       "      <th>mean</th>\n",
       "      <td>4.397526</td>\n",
       "      <td>1048.003686</td>\n",
       "      <td>5.956023</td>\n",
       "      <td>17.475834</td>\n",
       "    </tr>\n",
       "    <tr>\n",
       "      <th>std</th>\n",
       "      <td>0.641110</td>\n",
       "      <td>4546.930237</td>\n",
       "      <td>3.955515</td>\n",
       "      <td>8.588186</td>\n",
       "    </tr>\n",
       "    <tr>\n",
       "      <th>min</th>\n",
       "      <td>0.000000</td>\n",
       "      <td>0.000000</td>\n",
       "      <td>0.000000</td>\n",
       "      <td>1.000000</td>\n",
       "    </tr>\n",
       "    <tr>\n",
       "      <th>25%</th>\n",
       "      <td>4.300000</td>\n",
       "      <td>0.000000</td>\n",
       "      <td>3.990000</td>\n",
       "      <td>10.000000</td>\n",
       "    </tr>\n",
       "    <tr>\n",
       "      <th>50%</th>\n",
       "      <td>4.500000</td>\n",
       "      <td>42.000000</td>\n",
       "      <td>4.990000</td>\n",
       "      <td>19.000000</td>\n",
       "    </tr>\n",
       "    <tr>\n",
       "      <th>75%</th>\n",
       "      <td>4.600000</td>\n",
       "      <td>711.000000</td>\n",
       "      <td>6.990000</td>\n",
       "      <td>25.000000</td>\n",
       "    </tr>\n",
       "    <tr>\n",
       "      <th>max</th>\n",
       "      <td>5.000000</td>\n",
       "      <td>242575.000000</td>\n",
       "      <td>150.000000</td>\n",
       "      <td>31.000000</td>\n",
       "    </tr>\n",
       "  </tbody>\n",
       "</table>\n",
       "</div>"
      ],
      "text/plain": [
       "              stars        reviews         price   category_id\n",
       "count  35815.000000   35815.000000  35815.000000  35815.000000\n",
       "mean       4.397526    1048.003686      5.956023     17.475834\n",
       "std        0.641110    4546.930237      3.955515      8.588186\n",
       "min        0.000000       0.000000      0.000000      1.000000\n",
       "25%        4.300000       0.000000      3.990000     10.000000\n",
       "50%        4.500000      42.000000      4.990000     19.000000\n",
       "75%        4.600000     711.000000      6.990000     25.000000\n",
       "max        5.000000  242575.000000    150.000000     31.000000"
      ]
     },
     "execution_count": 40,
     "metadata": {},
     "output_type": "execute_result"
    }
   ],
   "source": [
    "df[ df['isKindleUnlimited'] == True].describe()"
   ]
  },
  {
   "cell_type": "code",
   "execution_count": 41,
   "id": "4c76310d",
   "metadata": {},
   "outputs": [
    {
     "data": {
      "text/html": [
       "<div>\n",
       "<style scoped>\n",
       "    .dataframe tbody tr th:only-of-type {\n",
       "        vertical-align: middle;\n",
       "    }\n",
       "\n",
       "    .dataframe tbody tr th {\n",
       "        vertical-align: top;\n",
       "    }\n",
       "\n",
       "    .dataframe thead th {\n",
       "        text-align: right;\n",
       "    }\n",
       "</style>\n",
       "<table border=\"1\" class=\"dataframe\">\n",
       "  <thead>\n",
       "    <tr style=\"text-align: right;\">\n",
       "      <th></th>\n",
       "      <th>stars</th>\n",
       "      <th>reviews</th>\n",
       "      <th>price</th>\n",
       "      <th>category_id</th>\n",
       "    </tr>\n",
       "  </thead>\n",
       "  <tbody>\n",
       "    <tr>\n",
       "      <th>count</th>\n",
       "      <td>5621.000000</td>\n",
       "      <td>5621.000000</td>\n",
       "      <td>5621.000000</td>\n",
       "      <td>5621.000000</td>\n",
       "    </tr>\n",
       "    <tr>\n",
       "      <th>mean</th>\n",
       "      <td>4.460612</td>\n",
       "      <td>4195.072407</td>\n",
       "      <td>11.238216</td>\n",
       "      <td>15.245152</td>\n",
       "    </tr>\n",
       "    <tr>\n",
       "      <th>std</th>\n",
       "      <td>0.250359</td>\n",
       "      <td>17255.379697</td>\n",
       "      <td>4.787545</td>\n",
       "      <td>7.230449</td>\n",
       "    </tr>\n",
       "    <tr>\n",
       "      <th>min</th>\n",
       "      <td>0.000000</td>\n",
       "      <td>0.000000</td>\n",
       "      <td>0.000000</td>\n",
       "      <td>1.000000</td>\n",
       "    </tr>\n",
       "    <tr>\n",
       "      <th>25%</th>\n",
       "      <td>4.300000</td>\n",
       "      <td>0.000000</td>\n",
       "      <td>9.000000</td>\n",
       "      <td>9.000000</td>\n",
       "    </tr>\n",
       "    <tr>\n",
       "      <th>50%</th>\n",
       "      <td>4.500000</td>\n",
       "      <td>146.000000</td>\n",
       "      <td>11.990000</td>\n",
       "      <td>16.000000</td>\n",
       "    </tr>\n",
       "    <tr>\n",
       "      <th>75%</th>\n",
       "      <td>4.600000</td>\n",
       "      <td>2148.000000</td>\n",
       "      <td>13.990000</td>\n",
       "      <td>21.000000</td>\n",
       "    </tr>\n",
       "    <tr>\n",
       "      <th>max</th>\n",
       "      <td>5.000000</td>\n",
       "      <td>618227.000000</td>\n",
       "      <td>105.990000</td>\n",
       "      <td>31.000000</td>\n",
       "    </tr>\n",
       "  </tbody>\n",
       "</table>\n",
       "</div>"
      ],
      "text/plain": [
       "             stars        reviews        price  category_id\n",
       "count  5621.000000    5621.000000  5621.000000  5621.000000\n",
       "mean      4.460612    4195.072407    11.238216    15.245152\n",
       "std       0.250359   17255.379697     4.787545     7.230449\n",
       "min       0.000000       0.000000     0.000000     1.000000\n",
       "25%       4.300000       0.000000     9.000000     9.000000\n",
       "50%       4.500000     146.000000    11.990000    16.000000\n",
       "75%       4.600000    2148.000000    13.990000    21.000000\n",
       "max       5.000000  618227.000000   105.990000    31.000000"
      ]
     },
     "execution_count": 41,
     "metadata": {},
     "output_type": "execute_result"
    }
   ],
   "source": [
    "df[ df['isEditorsPick'] == True].describe()"
   ]
  },
  {
   "cell_type": "code",
   "execution_count": 45,
   "id": "e55b5ed4",
   "metadata": {},
   "outputs": [
    {
     "data": {
      "text/plain": [
       "category_name\n",
       "Mystery, Thriller & Suspense    6272\n",
       "Engineering & Transportation    6162\n",
       "Science & Math                  5955\n",
       "Parenting & Relationships       5901\n",
       "Children's eBooks               5747\n",
       "Teen & Young Adult              5738\n",
       "Foreign Language                5724\n",
       "Travel                          5526\n",
       "LGBTQ+ eBooks                   5517\n",
       "Computers & Technology          5504\n",
       "Crafts, Hobbies & Home          5502\n",
       "Biographies & Memoirs           5405\n",
       "Cookbooks, Food & Wine          5333\n",
       "Law                             5027\n",
       "Education & Teaching            4986\n",
       "Religion & Spirituality         4970\n",
       "Arts & Photo graphy             4916\n",
       "Politics & Social Sciences      4207\n",
       "Literature & Fiction            4152\n",
       "Humor & Entertainment           4095\n",
       "Science Fiction & Fantasy       3995\n",
       "Self-Help                       3493\n",
       "Reference                       3388\n",
       "Sports & Outdoors               3206\n",
       "Medical                         2583\n",
       "Business & Money                2577\n",
       "Romance                         2214\n",
       "History                         2045\n",
       "Health, Fitness & Dieting       1585\n",
       "Nonfiction                       899\n",
       "Comics                           478\n",
       "Name: category_name, dtype: int64"
      ]
     },
     "execution_count": 45,
     "metadata": {},
     "output_type": "execute_result"
    }
   ],
   "source": [
    "df.groupby('category_name')['category_name'].count().sort_values(ascending = False)"
   ]
  },
  {
   "cell_type": "code",
   "execution_count": 55,
   "id": "e124cad6",
   "metadata": {},
   "outputs": [
    {
     "data": {
      "text/plain": [
       "category_name\n",
       "LGBTQ+ eBooks                   3906\n",
       "Mystery, Thriller & Suspense    3077\n",
       "Teen & Young Adult              2482\n",
       "Science Fiction & Fantasy       2372\n",
       "Literature & Fiction            2353\n",
       "Humor & Entertainment           1891\n",
       "Religion & Spirituality         1688\n",
       "Romance                         1647\n",
       "Cookbooks, Food & Wine          1578\n",
       "Crafts, Hobbies & Home          1500\n",
       "Name: category_name, dtype: int64"
      ]
     },
     "execution_count": 55,
     "metadata": {},
     "output_type": "execute_result"
    }
   ],
   "source": [
    "df[ df['isKindleUnlimited'] == True].groupby('category_name')['category_name'].count().sort_values(ascending = False).head(10)"
   ]
  },
  {
   "cell_type": "code",
   "execution_count": 56,
   "id": "23a9baf9",
   "metadata": {},
   "outputs": [
    {
     "data": {
      "text/plain": [
       "category_name\n",
       "Literature & Fiction            186\n",
       "Science & Math                  185\n",
       "Children's eBooks               152\n",
       "Teen & Young Adult              148\n",
       "Biographies & Memoirs           137\n",
       "Religion & Spirituality         129\n",
       "Politics & Social Sciences      113\n",
       "Mystery, Thriller & Suspense    109\n",
       "Travel                           99\n",
       "Crafts, Hobbies & Home           96\n",
       "Name: category_name, dtype: int64"
      ]
     },
     "execution_count": 56,
     "metadata": {},
     "output_type": "execute_result"
    }
   ],
   "source": [
    "df[ df['isBestSeller'] == True].groupby('category_name')['category_name'].count().sort_values(ascending = False).head(10)"
   ]
  },
  {
   "cell_type": "code",
   "execution_count": 52,
   "id": "45a994f6",
   "metadata": {},
   "outputs": [
    {
     "data": {
      "text/plain": [
       "category_name\n",
       "Teen & Young Adult              245\n",
       "Literature & Fiction            170\n",
       "Children's eBooks               152\n",
       "Biographies & Memoirs           144\n",
       "Mystery, Thriller & Suspense    124\n",
       "Name: category_name, dtype: int64"
      ]
     },
     "execution_count": 52,
     "metadata": {},
     "output_type": "execute_result"
    }
   ],
   "source": [
    "df[ df['isGoodReadsChoice'] == True].groupby('category_name')['category_name'].count().sort_values(ascending = False).head(5)"
   ]
  },
  {
   "cell_type": "code",
   "execution_count": 51,
   "id": "da4c9770",
   "metadata": {},
   "outputs": [
    {
     "data": {
      "text/plain": [
       "category_name\n",
       "Biographies & Memoirs           844\n",
       "Mystery, Thriller & Suspense    803\n",
       "Cookbooks, Food & Wine          634\n",
       "Literature & Fiction            490\n",
       "Teen & Young Adult              386\n",
       "Name: category_name, dtype: int64"
      ]
     },
     "execution_count": 51,
     "metadata": {},
     "output_type": "execute_result"
    }
   ],
   "source": [
    "df[ df['isEditorsPick'] == True].groupby('category_name')['category_name'].count().sort_values(ascending = False).head(5)"
   ]
  },
  {
   "cell_type": "markdown",
   "id": "2380d8a0",
   "metadata": {},
   "source": [
    "# Analysis"
   ]
  },
  {
   "cell_type": "markdown",
   "id": "8d1ca2c6",
   "metadata": {},
   "source": [
    "# Best release window"
   ]
  },
  {
   "cell_type": "code",
   "execution_count": 332,
   "id": "27afc4df",
   "metadata": {},
   "outputs": [
    {
     "data": {
      "image/png": "[encoded data removed]",
      "text/plain": [
       "<Figure size 1200x600 with 1 Axes>"
      ]
     },
     "metadata": {},
     "output_type": "display_data"
    }
   ],
   "source": [
    "plt.figure(figsize=(12, 6))\n",
    "plt.hist(df3['month'], bins=24, range=(1, 12), edgecolor='black')\n",
    "\n",
    "\n",
    "plt.title('Release Distribution Between Months')\n",
    "plt.xlabel('Month')\n",
    "plt.ylabel('Frequency')\n",
    "\n",
    "plt.grid(axis='y', linestyle='--', alpha=0.7)"
   ]
  },
  {
   "cell_type": "markdown",
   "id": "c0872b03",
   "metadata": {},
   "source": [
    "### the best release window for a book to make the best sellers list is between August and Octomber"
   ]
  },
  {
   "cell_type": "markdown",
   "id": "702fd4c2",
   "metadata": {},
   "source": [
    "# top 10 most popular categories in Best Sellers lists"
   ]
  },
  {
   "cell_type": "code",
   "execution_count": 143,
   "id": "d0a189a1",
   "metadata": {
    "scrolled": true
   },
   "outputs": [],
   "source": [
    "#df.groupby('category_name')['category_name'].count().sort_values(ascending = False).head(10)"
   ]
  },
  {
   "cell_type": "code",
   "execution_count": 135,
   "id": "585a3fdc",
   "metadata": {
    "scrolled": false
   },
   "outputs": [],
   "source": [
    "#df[ df['isBestSeller'] == True].groupby('category_name')['category_name'].count().sort_values(ascending = False).head(10).plot.bar(ylabel='number of books in Best Sellers list')\n",
    "#plt.xticks(fontsize=10, fontweight='bold')\n",
    "#plt.title('Most Popular Categories in Best Sellers list')"
   ]
  },
  {
   "cell_type": "code",
   "execution_count": 137,
   "id": "1c655ce7",
   "metadata": {},
   "outputs": [],
   "source": [
    "df_cat = df[ df['isBestSeller'] == True].groupby('category_name')['category_name'].count().sort_values(ascending = False).head(10)"
   ]
  },
  {
   "cell_type": "code",
   "execution_count": 138,
   "id": "b9b72b63",
   "metadata": {},
   "outputs": [
    {
     "data": {
      "text/plain": [
       "category_name\n",
       "Literature & Fiction            186\n",
       "Science & Math                  185\n",
       "Children's eBooks               152\n",
       "Teen & Young Adult              148\n",
       "Biographies & Memoirs           137\n",
       "Religion & Spirituality         129\n",
       "Politics & Social Sciences      113\n",
       "Mystery, Thriller & Suspense    109\n",
       "Travel                           99\n",
       "Crafts, Hobbies & Home           96\n",
       "Name: category_name, dtype: int64"
      ]
     },
     "execution_count": 138,
     "metadata": {},
     "output_type": "execute_result"
    }
   ],
   "source": [
    "df_cat"
   ]
  },
  {
   "cell_type": "code",
   "execution_count": 139,
   "id": "4b7056bc",
   "metadata": {},
   "outputs": [],
   "source": [
    "df_cat = pd.DataFrame(df_cat)"
   ]
  },
  {
   "cell_type": "code",
   "execution_count": 140,
   "id": "0738e6ad",
   "metadata": {},
   "outputs": [
    {
     "data": {
      "text/html": [
       "<div>\n",
       "<style scoped>\n",
       "    .dataframe tbody tr th:only-of-type {\n",
       "        vertical-align: middle;\n",
       "    }\n",
       "\n",
       "    .dataframe tbody tr th {\n",
       "        vertical-align: top;\n",
       "    }\n",
       "\n",
       "    .dataframe thead th {\n",
       "        text-align: right;\n",
       "    }\n",
       "</style>\n",
       "<table border=\"1\" class=\"dataframe\">\n",
       "  <thead>\n",
       "    <tr style=\"text-align: right;\">\n",
       "      <th></th>\n",
       "      <th>category_name</th>\n",
       "    </tr>\n",
       "    <tr>\n",
       "      <th>category_name</th>\n",
       "      <th></th>\n",
       "    </tr>\n",
       "  </thead>\n",
       "  <tbody>\n",
       "    <tr>\n",
       "      <th>Literature &amp; Fiction</th>\n",
       "      <td>186</td>\n",
       "    </tr>\n",
       "    <tr>\n",
       "      <th>Science &amp; Math</th>\n",
       "      <td>185</td>\n",
       "    </tr>\n",
       "    <tr>\n",
       "      <th>Children's eBooks</th>\n",
       "      <td>152</td>\n",
       "    </tr>\n",
       "    <tr>\n",
       "      <th>Teen &amp; Young Adult</th>\n",
       "      <td>148</td>\n",
       "    </tr>\n",
       "    <tr>\n",
       "      <th>Biographies &amp; Memoirs</th>\n",
       "      <td>137</td>\n",
       "    </tr>\n",
       "    <tr>\n",
       "      <th>Religion &amp; Spirituality</th>\n",
       "      <td>129</td>\n",
       "    </tr>\n",
       "    <tr>\n",
       "      <th>Politics &amp; Social Sciences</th>\n",
       "      <td>113</td>\n",
       "    </tr>\n",
       "    <tr>\n",
       "      <th>Mystery, Thriller &amp; Suspense</th>\n",
       "      <td>109</td>\n",
       "    </tr>\n",
       "    <tr>\n",
       "      <th>Travel</th>\n",
       "      <td>99</td>\n",
       "    </tr>\n",
       "    <tr>\n",
       "      <th>Crafts, Hobbies &amp; Home</th>\n",
       "      <td>96</td>\n",
       "    </tr>\n",
       "  </tbody>\n",
       "</table>\n",
       "</div>"
      ],
      "text/plain": [
       "                              category_name\n",
       "category_name                              \n",
       "Literature & Fiction                    186\n",
       "Science & Math                          185\n",
       "Children's eBooks                       152\n",
       "Teen & Young Adult                      148\n",
       "Biographies & Memoirs                   137\n",
       "Religion & Spirituality                 129\n",
       "Politics & Social Sciences              113\n",
       "Mystery, Thriller & Suspense            109\n",
       "Travel                                   99\n",
       "Crafts, Hobbies & Home                   96"
      ]
     },
     "execution_count": 140,
     "metadata": {},
     "output_type": "execute_result"
    }
   ],
   "source": [
    "df_cat"
   ]
  },
  {
   "cell_type": "code",
   "execution_count": 165,
   "id": "aa3106ff",
   "metadata": {
    "scrolled": false
   },
   "outputs": [
    {
     "data": {
      "text/plain": [
       "Text(0.5, 1.0, 'Most Popular Categories in Best Sellers list')"
      ]
     },
     "execution_count": 165,
     "metadata": {},
     "output_type": "execute_result"
    },
    {
     "data": {
      "image/png": "[encoded data removed]",
      "text/plain": [
       "<Figure size 640x480 with 1 Axes>"
      ]
     },
     "metadata": {},
     "output_type": "display_data"
    }
   ],
   "source": [
    "df_cat.plot.bar(edgecolor='black')\n",
    "plt.xticks(fontsize=12)\n",
    "plt.yticks(fontsize=10)\n",
    "plt.title('Most Popular Categories in Best Sellers list')"
   ]
  },
  {
   "cell_type": "markdown",
   "id": "2cb2182b",
   "metadata": {},
   "source": [
    "## if you want your book to achive Best Seller status you should aim for one of the following categories:\n",
    "### Literature & Fiction\n",
    "### Science & Math\n",
    "### Children's eBooks\n",
    "### Teen & Young Adult\n",
    "### Biographies & Memoirs\n",
    "### Religion & Spirituality\n",
    "### Politics & Social Sciences\n",
    "### Mystery, Thriller & Suspense\n",
    "### Travel\n",
    "### Crafts, Hobbies & Home"
   ]
  },
  {
   "cell_type": "code",
   "execution_count": null,
   "id": "36e80f76",
   "metadata": {},
   "outputs": [],
   "source": []
  },
  {
   "cell_type": "markdown",
   "id": "de707736",
   "metadata": {},
   "source": [
    "# Pricing strategy"
   ]
  },
  {
   "cell_type": "code",
   "execution_count": 144,
   "id": "1bd2dbe6",
   "metadata": {},
   "outputs": [],
   "source": [
    "df_best = df[ df['isBestSeller'] == True]"
   ]
  },
  {
   "cell_type": "code",
   "execution_count": 170,
   "id": "1232e840",
   "metadata": {},
   "outputs": [
    {
     "data": {
      "text/plain": [
       "(2236, 16)"
      ]
     },
     "execution_count": 170,
     "metadata": {},
     "output_type": "execute_result"
    }
   ],
   "source": [
    "df_best.shape"
   ]
  },
  {
   "cell_type": "code",
   "execution_count": 152,
   "id": "e2878f99",
   "metadata": {},
   "outputs": [
    {
     "data": {
      "text/html": [
       "<div>\n",
       "<style scoped>\n",
       "    .dataframe tbody tr th:only-of-type {\n",
       "        vertical-align: middle;\n",
       "    }\n",
       "\n",
       "    .dataframe tbody tr th {\n",
       "        vertical-align: top;\n",
       "    }\n",
       "\n",
       "    .dataframe thead th {\n",
       "        text-align: right;\n",
       "    }\n",
       "</style>\n",
       "<table border=\"1\" class=\"dataframe\">\n",
       "  <thead>\n",
       "    <tr style=\"text-align: right;\">\n",
       "      <th></th>\n",
       "      <th>price</th>\n",
       "    </tr>\n",
       "  </thead>\n",
       "  <tbody>\n",
       "    <tr>\n",
       "      <th>count</th>\n",
       "      <td>2236.000000</td>\n",
       "    </tr>\n",
       "    <tr>\n",
       "      <th>mean</th>\n",
       "      <td>7.681248</td>\n",
       "    </tr>\n",
       "    <tr>\n",
       "      <th>std</th>\n",
       "      <td>6.264738</td>\n",
       "    </tr>\n",
       "    <tr>\n",
       "      <th>min</th>\n",
       "      <td>0.000000</td>\n",
       "    </tr>\n",
       "    <tr>\n",
       "      <th>25%</th>\n",
       "      <td>2.990000</td>\n",
       "    </tr>\n",
       "    <tr>\n",
       "      <th>50%</th>\n",
       "      <td>5.990000</td>\n",
       "    </tr>\n",
       "    <tr>\n",
       "      <th>75%</th>\n",
       "      <td>9.990000</td>\n",
       "    </tr>\n",
       "    <tr>\n",
       "      <th>max</th>\n",
       "      <td>66.000000</td>\n",
       "    </tr>\n",
       "  </tbody>\n",
       "</table>\n",
       "</div>"
      ],
      "text/plain": [
       "             price\n",
       "count  2236.000000\n",
       "mean      7.681248\n",
       "std       6.264738\n",
       "min       0.000000\n",
       "25%       2.990000\n",
       "50%       5.990000\n",
       "75%       9.990000\n",
       "max      66.000000"
      ]
     },
     "execution_count": 152,
     "metadata": {},
     "output_type": "execute_result"
    }
   ],
   "source": [
    "pd.DataFrame(df_best['price'].describe())"
   ]
  },
  {
   "cell_type": "code",
   "execution_count": 150,
   "id": "9678b0a7",
   "metadata": {},
   "outputs": [
    {
     "data": {
      "text/html": [
       "<div>\n",
       "<style scoped>\n",
       "    .dataframe tbody tr th:only-of-type {\n",
       "        vertical-align: middle;\n",
       "    }\n",
       "\n",
       "    .dataframe tbody tr th {\n",
       "        vertical-align: top;\n",
       "    }\n",
       "\n",
       "    .dataframe thead th {\n",
       "        text-align: right;\n",
       "    }\n",
       "</style>\n",
       "<table border=\"1\" class=\"dataframe\">\n",
       "  <thead>\n",
       "    <tr style=\"text-align: right;\">\n",
       "      <th></th>\n",
       "      <th>price</th>\n",
       "    </tr>\n",
       "  </thead>\n",
       "  <tbody>\n",
       "    <tr>\n",
       "      <th>count</th>\n",
       "      <td>133102.000000</td>\n",
       "    </tr>\n",
       "    <tr>\n",
       "      <th>mean</th>\n",
       "      <td>15.134127</td>\n",
       "    </tr>\n",
       "    <tr>\n",
       "      <th>std</th>\n",
       "      <td>22.254986</td>\n",
       "    </tr>\n",
       "    <tr>\n",
       "      <th>min</th>\n",
       "      <td>0.000000</td>\n",
       "    </tr>\n",
       "    <tr>\n",
       "      <th>25%</th>\n",
       "      <td>4.990000</td>\n",
       "    </tr>\n",
       "    <tr>\n",
       "      <th>50%</th>\n",
       "      <td>9.990000</td>\n",
       "    </tr>\n",
       "    <tr>\n",
       "      <th>75%</th>\n",
       "      <td>14.990000</td>\n",
       "    </tr>\n",
       "    <tr>\n",
       "      <th>max</th>\n",
       "      <td>682.000000</td>\n",
       "    </tr>\n",
       "  </tbody>\n",
       "</table>\n",
       "</div>"
      ],
      "text/plain": [
       "               price\n",
       "count  133102.000000\n",
       "mean       15.134127\n",
       "std        22.254986\n",
       "min         0.000000\n",
       "25%         4.990000\n",
       "50%         9.990000\n",
       "75%        14.990000\n",
       "max       682.000000"
      ]
     },
     "execution_count": 150,
     "metadata": {},
     "output_type": "execute_result"
    }
   ],
   "source": [
    "pd.DataFrame(df['price'].describe())"
   ]
  },
  {
   "cell_type": "code",
   "execution_count": 160,
   "id": "66c837eb",
   "metadata": {},
   "outputs": [
    {
     "data": {
      "image/png": "[encoded data removed]",
      "text/plain": [
       "<Figure size 1200x600 with 1 Axes>"
      ]
     },
     "metadata": {},
     "output_type": "display_data"
    }
   ],
   "source": [
    "plt.figure(figsize=(12, 6))\n",
    "plt.hist(df_best['price'], bins=24, range=(1,20), edgecolor='black')\n",
    "\n",
    "\n",
    "plt.title('Price Distribution')\n",
    "plt.xlabel('Price in dollars $')\n",
    "plt.ylabel('Frequency')\n",
    "\n",
    "plt.grid(axis='y', linestyle='--', alpha=0.7)"
   ]
  },
  {
   "cell_type": "markdown",
   "id": "678fc470",
   "metadata": {},
   "source": [
    "### Books found in the Best Sellers lists are most frequently priced between 3 and 10 dollars"
   ]
  },
  {
   "cell_type": "code",
   "execution_count": null,
   "id": "488e1478",
   "metadata": {},
   "outputs": [],
   "source": []
  },
  {
   "cell_type": "code",
   "execution_count": null,
   "id": "4786c4c1",
   "metadata": {},
   "outputs": [],
   "source": []
  },
  {
   "cell_type": "markdown",
   "id": "8591c7fe",
   "metadata": {},
   "source": [
    "# correlation between labels (BestSeller, Kindle etc)|"
   ]
  },
  {
   "cell_type": "code",
   "execution_count": 187,
   "id": "d48a2484",
   "metadata": {},
   "outputs": [],
   "source": [
    "corr_1 = df['isBestSeller'].corr(df['isKindleUnlimited'])"
   ]
  },
  {
   "cell_type": "code",
   "execution_count": 188,
   "id": "3ede7a60",
   "metadata": {},
   "outputs": [
    {
     "name": "stdout",
     "output_type": "stream",
     "text": [
      "0.11380373781894995\n"
     ]
    }
   ],
   "source": [
    "print(corr_1)"
   ]
  },
  {
   "cell_type": "code",
   "execution_count": 191,
   "id": "98877917",
   "metadata": {},
   "outputs": [],
   "source": [
    "corr_2 = df['isBestSeller'].corr(df['isGoodReadsChoice'])"
   ]
  },
  {
   "cell_type": "code",
   "execution_count": 192,
   "id": "c25f9a31",
   "metadata": {},
   "outputs": [
    {
     "name": "stdout",
     "output_type": "stream",
     "text": [
      "-0.013486635027385382\n"
     ]
    }
   ],
   "source": [
    "print(corr_2)"
   ]
  },
  {
   "cell_type": "code",
   "execution_count": 193,
   "id": "68daf4d0",
   "metadata": {},
   "outputs": [],
   "source": [
    "corr_3 = df['isBestSeller'].corr(df['isEditorsPick'])"
   ]
  },
  {
   "cell_type": "code",
   "execution_count": 325,
   "id": "dbbe366a",
   "metadata": {},
   "outputs": [
    {
     "name": "stdout",
     "output_type": "stream",
     "text": [
      "-0.027447737232782536\n"
     ]
    }
   ],
   "source": [
    "print(corr_3)"
   ]
  },
  {
   "cell_type": "markdown",
   "id": "31ad224f",
   "metadata": {},
   "source": [
    "### there is no significant correlation between labels"
   ]
  },
  {
   "cell_type": "markdown",
   "id": "2d3d646c",
   "metadata": {},
   "source": [
    "# Book categories in the Best Seller lists and their popularity over the years"
   ]
  },
  {
   "cell_type": "code",
   "execution_count": 206,
   "id": "ab47efaa",
   "metadata": {},
   "outputs": [],
   "source": [
    "df2 = df.copy()"
   ]
  },
  {
   "cell_type": "code",
   "execution_count": 207,
   "id": "32729bf7",
   "metadata": {},
   "outputs": [],
   "source": [
    "df2['year'] = df['publishedDate'].dt.year"
   ]
  },
  {
   "cell_type": "code",
   "execution_count": 208,
   "id": "421d3bb5",
   "metadata": {},
   "outputs": [],
   "source": [
    "df2['month'] = df['publishedDate'].dt.month"
   ]
  },
  {
   "cell_type": "code",
   "execution_count": 214,
   "id": "1784ff4e",
   "metadata": {},
   "outputs": [
    {
     "data": {
      "text/html": [
       "<div>\n",
       "<style scoped>\n",
       "    .dataframe tbody tr th:only-of-type {\n",
       "        vertical-align: middle;\n",
       "    }\n",
       "\n",
       "    .dataframe tbody tr th {\n",
       "        vertical-align: top;\n",
       "    }\n",
       "\n",
       "    .dataframe thead th {\n",
       "        text-align: right;\n",
       "    }\n",
       "</style>\n",
       "<table border=\"1\" class=\"dataframe\">\n",
       "  <thead>\n",
       "    <tr style=\"text-align: right;\">\n",
       "      <th></th>\n",
       "      <th>asin</th>\n",
       "      <th>title</th>\n",
       "      <th>author</th>\n",
       "      <th>soldBy</th>\n",
       "      <th>imgUrl</th>\n",
       "      <th>productURL</th>\n",
       "      <th>stars</th>\n",
       "      <th>reviews</th>\n",
       "      <th>price</th>\n",
       "      <th>isKindleUnlimited</th>\n",
       "      <th>category_id</th>\n",
       "      <th>isBestSeller</th>\n",
       "      <th>isEditorsPick</th>\n",
       "      <th>isGoodReadsChoice</th>\n",
       "      <th>publishedDate</th>\n",
       "      <th>category_name</th>\n",
       "      <th>year</th>\n",
       "      <th>month</th>\n",
       "    </tr>\n",
       "  </thead>\n",
       "  <tbody>\n",
       "    <tr>\n",
       "      <th>0</th>\n",
       "      <td>B00TZE87S4</td>\n",
       "      <td>Adult Children of Emotionally Immature Parents...</td>\n",
       "      <td>Lindsay C. Gibson</td>\n",
       "      <td>Amazon.com Services LLC</td>\n",
       "      <td>https://m.media-amazon.com/images/I/713KZTsaYp...</td>\n",
       "      <td>https://www.amazon.com/dp/B00TZE87S4</td>\n",
       "      <td>4.8</td>\n",
       "      <td>0</td>\n",
       "      <td>9.99</td>\n",
       "      <td>False</td>\n",
       "      <td>6</td>\n",
       "      <td>True</td>\n",
       "      <td>False</td>\n",
       "      <td>False</td>\n",
       "      <td>2015-06-01</td>\n",
       "      <td>Parenting &amp; Relationships</td>\n",
       "      <td>2015.0</td>\n",
       "      <td>6.0</td>\n",
       "    </tr>\n",
       "    <tr>\n",
       "      <th>1</th>\n",
       "      <td>B08WCKY8MB</td>\n",
       "      <td>From Strength to Strength: Finding Success, Ha...</td>\n",
       "      <td>Arthur C. Brooks</td>\n",
       "      <td>Penguin Group (USA) LLC</td>\n",
       "      <td>https://m.media-amazon.com/images/I/A1LZcJFs9E...</td>\n",
       "      <td>https://www.amazon.com/dp/B08WCKY8MB</td>\n",
       "      <td>4.4</td>\n",
       "      <td>0</td>\n",
       "      <td>16.99</td>\n",
       "      <td>False</td>\n",
       "      <td>6</td>\n",
       "      <td>False</td>\n",
       "      <td>False</td>\n",
       "      <td>False</td>\n",
       "      <td>2022-02-15</td>\n",
       "      <td>Parenting &amp; Relationships</td>\n",
       "      <td>2022.0</td>\n",
       "      <td>2.0</td>\n",
       "    </tr>\n",
       "    <tr>\n",
       "      <th>2</th>\n",
       "      <td>B09KPS84CJ</td>\n",
       "      <td>Good Inside: A Guide to Becoming the Parent Yo...</td>\n",
       "      <td>Becky Kennedy</td>\n",
       "      <td>HarperCollins Publishers</td>\n",
       "      <td>https://m.media-amazon.com/images/I/71RIWM0sv6...</td>\n",
       "      <td>https://www.amazon.com/dp/B09KPS84CJ</td>\n",
       "      <td>4.8</td>\n",
       "      <td>0</td>\n",
       "      <td>16.99</td>\n",
       "      <td>False</td>\n",
       "      <td>6</td>\n",
       "      <td>False</td>\n",
       "      <td>True</td>\n",
       "      <td>False</td>\n",
       "      <td>2022-09-13</td>\n",
       "      <td>Parenting &amp; Relationships</td>\n",
       "      <td>2022.0</td>\n",
       "      <td>9.0</td>\n",
       "    </tr>\n",
       "    <tr>\n",
       "      <th>3</th>\n",
       "      <td>B07S7QPG6J</td>\n",
       "      <td>Everything I Know About Love: A Memoir</td>\n",
       "      <td>Dolly Alderton</td>\n",
       "      <td>HarperCollins Publishers</td>\n",
       "      <td>https://m.media-amazon.com/images/I/71QdQpTiKZ...</td>\n",
       "      <td>https://www.amazon.com/dp/B07S7QPG6J</td>\n",
       "      <td>4.2</td>\n",
       "      <td>0</td>\n",
       "      <td>9.95</td>\n",
       "      <td>True</td>\n",
       "      <td>6</td>\n",
       "      <td>False</td>\n",
       "      <td>True</td>\n",
       "      <td>False</td>\n",
       "      <td>2020-02-25</td>\n",
       "      <td>Parenting &amp; Relationships</td>\n",
       "      <td>2020.0</td>\n",
       "      <td>2.0</td>\n",
       "    </tr>\n",
       "    <tr>\n",
       "      <th>4</th>\n",
       "      <td>B00N6PEQV0</td>\n",
       "      <td>The Seven Principles for Making Marriage Work:...</td>\n",
       "      <td>John Gottman</td>\n",
       "      <td>Random House LLC</td>\n",
       "      <td>https://m.media-amazon.com/images/I/813o4WOs+w...</td>\n",
       "      <td>https://www.amazon.com/dp/B00N6PEQV0</td>\n",
       "      <td>4.7</td>\n",
       "      <td>0</td>\n",
       "      <td>13.99</td>\n",
       "      <td>False</td>\n",
       "      <td>6</td>\n",
       "      <td>False</td>\n",
       "      <td>False</td>\n",
       "      <td>False</td>\n",
       "      <td>2015-05-05</td>\n",
       "      <td>Parenting &amp; Relationships</td>\n",
       "      <td>2015.0</td>\n",
       "      <td>5.0</td>\n",
       "    </tr>\n",
       "  </tbody>\n",
       "</table>\n",
       "</div>"
      ],
      "text/plain": [
       "         asin                                              title  \\\n",
       "0  B00TZE87S4  Adult Children of Emotionally Immature Parents...   \n",
       "1  B08WCKY8MB  From Strength to Strength: Finding Success, Ha...   \n",
       "2  B09KPS84CJ  Good Inside: A Guide to Becoming the Parent Yo...   \n",
       "3  B07S7QPG6J             Everything I Know About Love: A Memoir   \n",
       "4  B00N6PEQV0  The Seven Principles for Making Marriage Work:...   \n",
       "\n",
       "              author                    soldBy  \\\n",
       "0  Lindsay C. Gibson   Amazon.com Services LLC   \n",
       "1   Arthur C. Brooks   Penguin Group (USA) LLC   \n",
       "2      Becky Kennedy  HarperCollins Publishers   \n",
       "3     Dolly Alderton  HarperCollins Publishers   \n",
       "4       John Gottman          Random House LLC   \n",
       "\n",
       "                                              imgUrl  \\\n",
       "0  https://m.media-amazon.com/images/I/713KZTsaYp...   \n",
       "1  https://m.media-amazon.com/images/I/A1LZcJFs9E...   \n",
       "2  https://m.media-amazon.com/images/I/71RIWM0sv6...   \n",
       "3  https://m.media-amazon.com/images/I/71QdQpTiKZ...   \n",
       "4  https://m.media-amazon.com/images/I/813o4WOs+w...   \n",
       "\n",
       "                             productURL  stars  reviews  price  \\\n",
       "0  https://www.amazon.com/dp/B00TZE87S4    4.8        0   9.99   \n",
       "1  https://www.amazon.com/dp/B08WCKY8MB    4.4        0  16.99   \n",
       "2  https://www.amazon.com/dp/B09KPS84CJ    4.8        0  16.99   \n",
       "3  https://www.amazon.com/dp/B07S7QPG6J    4.2        0   9.95   \n",
       "4  https://www.amazon.com/dp/B00N6PEQV0    4.7        0  13.99   \n",
       "\n",
       "   isKindleUnlimited  category_id  isBestSeller  isEditorsPick  \\\n",
       "0              False            6          True          False   \n",
       "1              False            6         False          False   \n",
       "2              False            6         False           True   \n",
       "3               True            6         False           True   \n",
       "4              False            6         False          False   \n",
       "\n",
       "   isGoodReadsChoice publishedDate              category_name    year  month  \n",
       "0              False    2015-06-01  Parenting & Relationships  2015.0    6.0  \n",
       "1              False    2022-02-15  Parenting & Relationships  2022.0    2.0  \n",
       "2              False    2022-09-13  Parenting & Relationships  2022.0    9.0  \n",
       "3              False    2020-02-25  Parenting & Relationships  2020.0    2.0  \n",
       "4              False    2015-05-05  Parenting & Relationships  2015.0    5.0  "
      ]
     },
     "execution_count": 214,
     "metadata": {},
     "output_type": "execute_result"
    }
   ],
   "source": [
    "df2.head()"
   ]
  },
  {
   "cell_type": "code",
   "execution_count": 236,
   "id": "63263056",
   "metadata": {},
   "outputs": [
    {
     "data": {
      "text/plain": [
       "year\n",
       "1979.0      1\n",
       "1984.0      1\n",
       "1993.0      1\n",
       "1996.0      1\n",
       "1997.0      1\n",
       "1998.0      2\n",
       "1999.0      1\n",
       "2000.0      2\n",
       "2001.0      2\n",
       "2002.0      2\n",
       "2003.0      2\n",
       "2004.0      3\n",
       "2005.0      4\n",
       "2006.0      6\n",
       "2007.0     13\n",
       "2008.0      9\n",
       "2009.0     21\n",
       "2010.0     12\n",
       "2011.0     30\n",
       "2012.0     32\n",
       "2013.0     37\n",
       "2014.0     39\n",
       "2015.0     48\n",
       "2016.0     42\n",
       "2017.0     55\n",
       "2018.0    105\n",
       "2019.0     85\n",
       "2020.0    102\n",
       "2021.0    144\n",
       "2022.0    208\n",
       "2023.0    386\n",
       "Name: year, dtype: int64"
      ]
     },
     "execution_count": 236,
     "metadata": {},
     "output_type": "execute_result"
    }
   ],
   "source": [
    "df2[ df2[ 'isBestSeller'] == True ].groupby('year')['year'].count()"
   ]
  },
  {
   "cell_type": "code",
   "execution_count": 218,
   "id": "a21ac0e6",
   "metadata": {},
   "outputs": [
    {
     "data": {
      "text/plain": [
       "category_name\n",
       "Biographies & Memoirs           38\n",
       "Literature & Fiction            35\n",
       "Religion & Spirituality         29\n",
       "Science & Math                  28\n",
       "Politics & Social Sciences      26\n",
       "Children's eBooks               23\n",
       "Business & Money                20\n",
       "Mystery, Thriller & Suspense    18\n",
       "Cookbooks, Food & Wine          17\n",
       "Crafts, Hobbies & Home          13\n",
       "Name: category_name, dtype: int64"
      ]
     },
     "execution_count": 218,
     "metadata": {},
     "output_type": "execute_result"
    }
   ],
   "source": [
    "df2[ (df2['isBestSeller'] == True) & (df2['year']==2023) ].groupby('category_name')['category_name'].count().sort_values(ascending=False).head(10)"
   ]
  },
  {
   "cell_type": "code",
   "execution_count": 219,
   "id": "ede07d84",
   "metadata": {},
   "outputs": [
    {
     "data": {
      "text/plain": [
       "category_name\n",
       "Travel                        28\n",
       "Science & Math                23\n",
       "Children's eBooks             17\n",
       "Religion & Spirituality       14\n",
       "Politics & Social Sciences    13\n",
       "Crafts, Hobbies & Home        10\n",
       "Literature & Fiction           9\n",
       "Computers & Technology         9\n",
       "Reference                      8\n",
       "Parenting & Relationships      8\n",
       "Name: category_name, dtype: int64"
      ]
     },
     "execution_count": 219,
     "metadata": {},
     "output_type": "execute_result"
    }
   ],
   "source": [
    "df2[ (df2['isBestSeller'] == True) & (df2['year']==2022) ].groupby('category_name')['category_name'].count().sort_values(ascending=False).head(10)"
   ]
  },
  {
   "cell_type": "code",
   "execution_count": 220,
   "id": "fae54f4f",
   "metadata": {},
   "outputs": [
    {
     "data": {
      "text/plain": [
       "category_name\n",
       "Science & Math                  20\n",
       "Crafts, Hobbies & Home          19\n",
       "Children's eBooks               12\n",
       "Travel                          10\n",
       "Biographies & Memoirs           10\n",
       "Cookbooks, Food & Wine           9\n",
       "Parenting & Relationships        8\n",
       "Computers & Technology           6\n",
       "Engineering & Transportation     6\n",
       "Politics & Social Sciences       5\n",
       "Name: category_name, dtype: int64"
      ]
     },
     "execution_count": 220,
     "metadata": {},
     "output_type": "execute_result"
    }
   ],
   "source": [
    "df2[ (df2['isBestSeller'] == True) & (df2['year']==2021) ].groupby('category_name')['category_name'].count().sort_values(ascending=False).head(10)"
   ]
  },
  {
   "cell_type": "code",
   "execution_count": 221,
   "id": "e14caa98",
   "metadata": {},
   "outputs": [
    {
     "data": {
      "text/plain": [
       "category_name\n",
       "Science & Math                  16\n",
       "Children's eBooks                8\n",
       "Religion & Spirituality          8\n",
       "Biographies & Memoirs            8\n",
       "Crafts, Hobbies & Home           6\n",
       "Engineering & Transportation     5\n",
       "Teen & Young Adult               5\n",
       "Business & Money                 5\n",
       "Law                              4\n",
       "Travel                           4\n",
       "Name: category_name, dtype: int64"
      ]
     },
     "execution_count": 221,
     "metadata": {},
     "output_type": "execute_result"
    }
   ],
   "source": [
    "df2[ (df2['isBestSeller'] == True) & (df2['year']==2020) ].groupby('category_name')['category_name'].count().sort_values(ascending=False).head(10)"
   ]
  },
  {
   "cell_type": "code",
   "execution_count": 222,
   "id": "05691fce",
   "metadata": {},
   "outputs": [
    {
     "data": {
      "text/plain": [
       "category_name\n",
       "Children's eBooks             10\n",
       "Science & Math                10\n",
       "Business & Money               6\n",
       "Politics & Social Sciences     6\n",
       "Cookbooks, Food & Wine         5\n",
       "Crafts, Hobbies & Home         5\n",
       "Biographies & Memoirs          4\n",
       "Nonfiction                     4\n",
       "Arts & Photo graphy            3\n",
       "Medical                        3\n",
       "Name: category_name, dtype: int64"
      ]
     },
     "execution_count": 222,
     "metadata": {},
     "output_type": "execute_result"
    }
   ],
   "source": [
    "df2[ (df2['isBestSeller'] == True) & (df2['year']==2019) ].groupby('category_name')['category_name'].count().sort_values(ascending=False).head(10)"
   ]
  },
  {
   "cell_type": "code",
   "execution_count": 223,
   "id": "8325077d",
   "metadata": {},
   "outputs": [],
   "source": [
    "df3 = df2[ df2[ 'isBestSeller'] == True ]"
   ]
  },
  {
   "cell_type": "code",
   "execution_count": 246,
   "id": "9626e220",
   "metadata": {},
   "outputs": [
    {
     "data": {
      "text/plain": [
       "386"
      ]
     },
     "execution_count": 246,
     "metadata": {},
     "output_type": "execute_result"
    }
   ],
   "source": [
    "list(df3[df3['year']==2023].shape)[0]"
   ]
  },
  {
   "cell_type": "code",
   "execution_count": 257,
   "id": "bc9f4681",
   "metadata": {},
   "outputs": [],
   "source": [
    "year_2023 = (df3[df3['year']==2023].groupby('category_name')['category_name'].count())/(list(df3[df3['year']==2023].shape)[0])*100"
   ]
  },
  {
   "cell_type": "code",
   "execution_count": 259,
   "id": "b5e7a971",
   "metadata": {},
   "outputs": [],
   "source": [
    "year_2022 = (df3[df3['year']==2022].groupby('category_name')['category_name'].count())/(list(df3[df3['year']==2022].shape)[0])*100"
   ]
  },
  {
   "cell_type": "code",
   "execution_count": 260,
   "id": "c3eb8e95",
   "metadata": {},
   "outputs": [],
   "source": [
    "year_2021 = (df3[df3['year']==2021].groupby('category_name')['category_name'].count())/(list(df3[df3['year']==2021].shape)[0])*100"
   ]
  },
  {
   "cell_type": "code",
   "execution_count": 261,
   "id": "fba7f33a",
   "metadata": {},
   "outputs": [],
   "source": [
    "year_2020 = (df3[df3['year']==2020].groupby('category_name')['category_name'].count())/(list(df3[df3['year']==2020].shape)[0])*100"
   ]
  },
  {
   "cell_type": "code",
   "execution_count": 262,
   "id": "77e13be3",
   "metadata": {},
   "outputs": [],
   "source": [
    "year_2019 = (df3[df3['year']==2019].groupby('category_name')['category_name'].count())/(list(df3[df3['year']==2019].shape)[0])*100"
   ]
  },
  {
   "cell_type": "code",
   "execution_count": 263,
   "id": "dd79dc6a",
   "metadata": {},
   "outputs": [
    {
     "data": {
      "text/plain": [
       "category_name\n",
       "Arts & Photo graphy             2.849741\n",
       "Biographies & Memoirs           9.844560\n",
       "Business & Money                5.181347\n",
       "Children's eBooks               5.958549\n",
       "Computers & Technology          3.108808\n",
       "Cookbooks, Food & Wine          4.404145\n",
       "Crafts, Hobbies & Home          3.367876\n",
       "Education & Teaching            2.590674\n",
       "Engineering & Transportation    1.813472\n",
       "Foreign Language                0.259067\n",
       "Health, Fitness & Dieting       3.108808\n",
       "History                         2.590674\n",
       "Humor & Entertainment           1.554404\n",
       "LGBTQ+ eBooks                   1.813472\n",
       "Law                             0.518135\n",
       "Literature & Fiction            9.067358\n",
       "Medical                         0.518135\n",
       "Mystery, Thriller & Suspense    4.663212\n",
       "Nonfiction                      3.367876\n",
       "Parenting & Relationships       1.554404\n",
       "Politics & Social Sciences      6.735751\n",
       "Reference                       1.813472\n",
       "Religion & Spirituality         7.512953\n",
       "Romance                         0.518135\n",
       "Science & Math                  7.253886\n",
       "Science Fiction & Fantasy       0.777202\n",
       "Self-Help                       2.590674\n",
       "Sports & Outdoors               0.259067\n",
       "Teen & Young Adult              2.849741\n",
       "Travel                          1.554404\n",
       "Name: category_name, dtype: float64"
      ]
     },
     "execution_count": 263,
     "metadata": {},
     "output_type": "execute_result"
    }
   ],
   "source": [
    "year_2023"
   ]
  },
  {
   "cell_type": "code",
   "execution_count": 374,
   "id": "aa0d3e7c",
   "metadata": {},
   "outputs": [],
   "source": [
    "data = pd.concat([year_2019, year_2020,year_2021,year_2022,year_2023], axis=1)"
   ]
  },
  {
   "cell_type": "code",
   "execution_count": 375,
   "id": "3c6796fc",
   "metadata": {},
   "outputs": [],
   "source": [
    "data.columns=['2019', '2020','2021','2022','2023']"
   ]
  },
  {
   "cell_type": "code",
   "execution_count": 376,
   "id": "1ace078e",
   "metadata": {},
   "outputs": [],
   "source": [
    "#data = data.reset_index()"
   ]
  },
  {
   "cell_type": "code",
   "execution_count": 393,
   "id": "22bfb915",
   "metadata": {},
   "outputs": [
    {
     "data": {
      "text/html": [
       "<div>\n",
       "<style scoped>\n",
       "    .dataframe tbody tr th:only-of-type {\n",
       "        vertical-align: middle;\n",
       "    }\n",
       "\n",
       "    .dataframe tbody tr th {\n",
       "        vertical-align: top;\n",
       "    }\n",
       "\n",
       "    .dataframe thead th {\n",
       "        text-align: right;\n",
       "    }\n",
       "</style>\n",
       "<table border=\"1\" class=\"dataframe\">\n",
       "  <thead>\n",
       "    <tr style=\"text-align: right;\">\n",
       "      <th></th>\n",
       "      <th>2019</th>\n",
       "      <th>2020</th>\n",
       "      <th>2021</th>\n",
       "      <th>2022</th>\n",
       "      <th>2023</th>\n",
       "    </tr>\n",
       "    <tr>\n",
       "      <th>category_name</th>\n",
       "      <th></th>\n",
       "      <th></th>\n",
       "      <th></th>\n",
       "      <th></th>\n",
       "      <th></th>\n",
       "    </tr>\n",
       "  </thead>\n",
       "  <tbody>\n",
       "    <tr>\n",
       "      <th>Arts &amp; Photo graphy</th>\n",
       "      <td>3.529412</td>\n",
       "      <td>1.960784</td>\n",
       "      <td>2.777778</td>\n",
       "      <td>3.846154</td>\n",
       "      <td>2.849741</td>\n",
       "    </tr>\n",
       "    <tr>\n",
       "      <th>Biographies &amp; Memoirs</th>\n",
       "      <td>4.705882</td>\n",
       "      <td>7.843137</td>\n",
       "      <td>6.944444</td>\n",
       "      <td>2.884615</td>\n",
       "      <td>9.844560</td>\n",
       "    </tr>\n",
       "    <tr>\n",
       "      <th>Business &amp; Money</th>\n",
       "      <td>7.058824</td>\n",
       "      <td>4.901961</td>\n",
       "      <td>2.777778</td>\n",
       "      <td>2.403846</td>\n",
       "      <td>5.181347</td>\n",
       "    </tr>\n",
       "    <tr>\n",
       "      <th>Children's eBooks</th>\n",
       "      <td>11.764706</td>\n",
       "      <td>7.843137</td>\n",
       "      <td>8.333333</td>\n",
       "      <td>8.173077</td>\n",
       "      <td>5.958549</td>\n",
       "    </tr>\n",
       "    <tr>\n",
       "      <th>Computers &amp; Technology</th>\n",
       "      <td>3.529412</td>\n",
       "      <td>2.941176</td>\n",
       "      <td>4.166667</td>\n",
       "      <td>4.326923</td>\n",
       "      <td>3.108808</td>\n",
       "    </tr>\n",
       "    <tr>\n",
       "      <th>Cookbooks, Food &amp; Wine</th>\n",
       "      <td>5.882353</td>\n",
       "      <td>2.941176</td>\n",
       "      <td>6.250000</td>\n",
       "      <td>3.846154</td>\n",
       "      <td>4.404145</td>\n",
       "    </tr>\n",
       "    <tr>\n",
       "      <th>Crafts, Hobbies &amp; Home</th>\n",
       "      <td>5.882353</td>\n",
       "      <td>5.882353</td>\n",
       "      <td>13.194444</td>\n",
       "      <td>4.807692</td>\n",
       "      <td>3.367876</td>\n",
       "    </tr>\n",
       "    <tr>\n",
       "      <th>Education &amp; Teaching</th>\n",
       "      <td>1.176471</td>\n",
       "      <td>3.921569</td>\n",
       "      <td>2.083333</td>\n",
       "      <td>2.884615</td>\n",
       "      <td>2.590674</td>\n",
       "    </tr>\n",
       "    <tr>\n",
       "      <th>Engineering &amp; Transportation</th>\n",
       "      <td>3.529412</td>\n",
       "      <td>4.901961</td>\n",
       "      <td>4.166667</td>\n",
       "      <td>2.884615</td>\n",
       "      <td>1.813472</td>\n",
       "    </tr>\n",
       "    <tr>\n",
       "      <th>Health, Fitness &amp; Dieting</th>\n",
       "      <td>3.529412</td>\n",
       "      <td>1.960784</td>\n",
       "      <td>2.083333</td>\n",
       "      <td>2.403846</td>\n",
       "      <td>3.108808</td>\n",
       "    </tr>\n",
       "    <tr>\n",
       "      <th>History</th>\n",
       "      <td>3.529412</td>\n",
       "      <td>1.960784</td>\n",
       "      <td>0.694444</td>\n",
       "      <td>1.923077</td>\n",
       "      <td>2.590674</td>\n",
       "    </tr>\n",
       "    <tr>\n",
       "      <th>Humor &amp; Entertainment</th>\n",
       "      <td>1.176471</td>\n",
       "      <td>NaN</td>\n",
       "      <td>0.694444</td>\n",
       "      <td>2.403846</td>\n",
       "      <td>1.554404</td>\n",
       "    </tr>\n",
       "    <tr>\n",
       "      <th>Literature &amp; Fiction</th>\n",
       "      <td>3.529412</td>\n",
       "      <td>0.980392</td>\n",
       "      <td>2.777778</td>\n",
       "      <td>4.326923</td>\n",
       "      <td>9.067358</td>\n",
       "    </tr>\n",
       "    <tr>\n",
       "      <th>Medical</th>\n",
       "      <td>3.529412</td>\n",
       "      <td>0.980392</td>\n",
       "      <td>0.694444</td>\n",
       "      <td>0.961538</td>\n",
       "      <td>0.518135</td>\n",
       "    </tr>\n",
       "    <tr>\n",
       "      <th>Mystery, Thriller &amp; Suspense</th>\n",
       "      <td>2.352941</td>\n",
       "      <td>0.980392</td>\n",
       "      <td>2.083333</td>\n",
       "      <td>1.442308</td>\n",
       "      <td>4.663212</td>\n",
       "    </tr>\n",
       "    <tr>\n",
       "      <th>Nonfiction</th>\n",
       "      <td>4.705882</td>\n",
       "      <td>1.960784</td>\n",
       "      <td>0.694444</td>\n",
       "      <td>0.961538</td>\n",
       "      <td>3.367876</td>\n",
       "    </tr>\n",
       "    <tr>\n",
       "      <th>Parenting &amp; Relationships</th>\n",
       "      <td>2.352941</td>\n",
       "      <td>2.941176</td>\n",
       "      <td>5.555556</td>\n",
       "      <td>3.846154</td>\n",
       "      <td>1.554404</td>\n",
       "    </tr>\n",
       "    <tr>\n",
       "      <th>Politics &amp; Social Sciences</th>\n",
       "      <td>7.058824</td>\n",
       "      <td>2.941176</td>\n",
       "      <td>3.472222</td>\n",
       "      <td>6.250000</td>\n",
       "      <td>6.735751</td>\n",
       "    </tr>\n",
       "    <tr>\n",
       "      <th>Reference</th>\n",
       "      <td>1.176471</td>\n",
       "      <td>2.941176</td>\n",
       "      <td>1.388889</td>\n",
       "      <td>3.846154</td>\n",
       "      <td>1.813472</td>\n",
       "    </tr>\n",
       "    <tr>\n",
       "      <th>Religion &amp; Spirituality</th>\n",
       "      <td>2.352941</td>\n",
       "      <td>7.843137</td>\n",
       "      <td>2.777778</td>\n",
       "      <td>6.730769</td>\n",
       "      <td>7.512953</td>\n",
       "    </tr>\n",
       "    <tr>\n",
       "      <th>Science &amp; Math</th>\n",
       "      <td>11.764706</td>\n",
       "      <td>15.686275</td>\n",
       "      <td>13.888889</td>\n",
       "      <td>11.057692</td>\n",
       "      <td>7.253886</td>\n",
       "    </tr>\n",
       "    <tr>\n",
       "      <th>Self-Help</th>\n",
       "      <td>1.176471</td>\n",
       "      <td>1.960784</td>\n",
       "      <td>0.694444</td>\n",
       "      <td>0.961538</td>\n",
       "      <td>2.590674</td>\n",
       "    </tr>\n",
       "    <tr>\n",
       "      <th>Teen &amp; Young Adult</th>\n",
       "      <td>2.352941</td>\n",
       "      <td>4.901961</td>\n",
       "      <td>2.777778</td>\n",
       "      <td>2.403846</td>\n",
       "      <td>2.849741</td>\n",
       "    </tr>\n",
       "    <tr>\n",
       "      <th>Travel</th>\n",
       "      <td>2.352941</td>\n",
       "      <td>3.921569</td>\n",
       "      <td>6.944444</td>\n",
       "      <td>13.461538</td>\n",
       "      <td>1.554404</td>\n",
       "    </tr>\n",
       "    <tr>\n",
       "      <th>Law</th>\n",
       "      <td>NaN</td>\n",
       "      <td>3.921569</td>\n",
       "      <td>1.388889</td>\n",
       "      <td>0.961538</td>\n",
       "      <td>0.518135</td>\n",
       "    </tr>\n",
       "    <tr>\n",
       "      <th>Romance</th>\n",
       "      <td>NaN</td>\n",
       "      <td>0.980392</td>\n",
       "      <td>NaN</td>\n",
       "      <td>NaN</td>\n",
       "      <td>0.518135</td>\n",
       "    </tr>\n",
       "    <tr>\n",
       "      <th>Sports &amp; Outdoors</th>\n",
       "      <td>NaN</td>\n",
       "      <td>NaN</td>\n",
       "      <td>0.694444</td>\n",
       "      <td>NaN</td>\n",
       "      <td>0.259067</td>\n",
       "    </tr>\n",
       "    <tr>\n",
       "      <th>Foreign Language</th>\n",
       "      <td>NaN</td>\n",
       "      <td>NaN</td>\n",
       "      <td>NaN</td>\n",
       "      <td>NaN</td>\n",
       "      <td>0.259067</td>\n",
       "    </tr>\n",
       "    <tr>\n",
       "      <th>LGBTQ+ eBooks</th>\n",
       "      <td>NaN</td>\n",
       "      <td>NaN</td>\n",
       "      <td>NaN</td>\n",
       "      <td>NaN</td>\n",
       "      <td>1.813472</td>\n",
       "    </tr>\n",
       "    <tr>\n",
       "      <th>Science Fiction &amp; Fantasy</th>\n",
       "      <td>NaN</td>\n",
       "      <td>NaN</td>\n",
       "      <td>NaN</td>\n",
       "      <td>NaN</td>\n",
       "      <td>0.777202</td>\n",
       "    </tr>\n",
       "  </tbody>\n",
       "</table>\n",
       "</div>"
      ],
      "text/plain": [
       "                                   2019       2020       2021       2022  \\\n",
       "category_name                                                              \n",
       "Arts & Photo graphy            3.529412   1.960784   2.777778   3.846154   \n",
       "Biographies & Memoirs          4.705882   7.843137   6.944444   2.884615   \n",
       "Business & Money               7.058824   4.901961   2.777778   2.403846   \n",
       "Children's eBooks             11.764706   7.843137   8.333333   8.173077   \n",
       "Computers & Technology         3.529412   2.941176   4.166667   4.326923   \n",
       "Cookbooks, Food & Wine         5.882353   2.941176   6.250000   3.846154   \n",
       "Crafts, Hobbies & Home         5.882353   5.882353  13.194444   4.807692   \n",
       "Education & Teaching           1.176471   3.921569   2.083333   2.884615   \n",
       "Engineering & Transportation   3.529412   4.901961   4.166667   2.884615   \n",
       "Health, Fitness & Dieting      3.529412   1.960784   2.083333   2.403846   \n",
       "History                        3.529412   1.960784   0.694444   1.923077   \n",
       "Humor & Entertainment          1.176471        NaN   0.694444   2.403846   \n",
       "Literature & Fiction           3.529412   0.980392   2.777778   4.326923   \n",
       "Medical                        3.529412   0.980392   0.694444   0.961538   \n",
       "Mystery, Thriller & Suspense   2.352941   0.980392   2.083333   1.442308   \n",
       "Nonfiction                     4.705882   1.960784   0.694444   0.961538   \n",
       "Parenting & Relationships      2.352941   2.941176   5.555556   3.846154   \n",
       "Politics & Social Sciences     7.058824   2.941176   3.472222   6.250000   \n",
       "Reference                      1.176471   2.941176   1.388889   3.846154   \n",
       "Religion & Spirituality        2.352941   7.843137   2.777778   6.730769   \n",
       "Science & Math                11.764706  15.686275  13.888889  11.057692   \n",
       "Self-Help                      1.176471   1.960784   0.694444   0.961538   \n",
       "Teen & Young Adult             2.352941   4.901961   2.777778   2.403846   \n",
       "Travel                         2.352941   3.921569   6.944444  13.461538   \n",
       "Law                                 NaN   3.921569   1.388889   0.961538   \n",
       "Romance                             NaN   0.980392        NaN        NaN   \n",
       "Sports & Outdoors                   NaN        NaN   0.694444        NaN   \n",
       "Foreign Language                    NaN        NaN        NaN        NaN   \n",
       "LGBTQ+ eBooks                       NaN        NaN        NaN        NaN   \n",
       "Science Fiction & Fantasy           NaN        NaN        NaN        NaN   \n",
       "\n",
       "                                  2023  \n",
       "category_name                           \n",
       "Arts & Photo graphy           2.849741  \n",
       "Biographies & Memoirs         9.844560  \n",
       "Business & Money              5.181347  \n",
       "Children's eBooks             5.958549  \n",
       "Computers & Technology        3.108808  \n",
       "Cookbooks, Food & Wine        4.404145  \n",
       "Crafts, Hobbies & Home        3.367876  \n",
       "Education & Teaching          2.590674  \n",
       "Engineering & Transportation  1.813472  \n",
       "Health, Fitness & Dieting     3.108808  \n",
       "History                       2.590674  \n",
       "Humor & Entertainment         1.554404  \n",
       "Literature & Fiction          9.067358  \n",
       "Medical                       0.518135  \n",
       "Mystery, Thriller & Suspense  4.663212  \n",
       "Nonfiction                    3.367876  \n",
       "Parenting & Relationships     1.554404  \n",
       "Politics & Social Sciences    6.735751  \n",
       "Reference                     1.813472  \n",
       "Religion & Spirituality       7.512953  \n",
       "Science & Math                7.253886  \n",
       "Self-Help                     2.590674  \n",
       "Teen & Young Adult            2.849741  \n",
       "Travel                        1.554404  \n",
       "Law                           0.518135  \n",
       "Romance                       0.518135  \n",
       "Sports & Outdoors             0.259067  \n",
       "Foreign Language              0.259067  \n",
       "LGBTQ+ eBooks                 1.813472  \n",
       "Science Fiction & Fantasy     0.777202  "
      ]
     },
     "execution_count": 393,
     "metadata": {},
     "output_type": "execute_result"
    }
   ],
   "source": [
    "data"
   ]
  },
  {
   "cell_type": "code",
   "execution_count": 378,
   "id": "7e7f96cb",
   "metadata": {},
   "outputs": [],
   "source": [
    "df_t = data.transpose()"
   ]
  },
  {
   "cell_type": "code",
   "execution_count": 379,
   "id": "473535d6",
   "metadata": {},
   "outputs": [
    {
     "data": {
      "text/html": [
       "<div>\n",
       "<style scoped>\n",
       "    .dataframe tbody tr th:only-of-type {\n",
       "        vertical-align: middle;\n",
       "    }\n",
       "\n",
       "    .dataframe tbody tr th {\n",
       "        vertical-align: top;\n",
       "    }\n",
       "\n",
       "    .dataframe thead th {\n",
       "        text-align: right;\n",
       "    }\n",
       "</style>\n",
       "<table border=\"1\" class=\"dataframe\">\n",
       "  <thead>\n",
       "    <tr style=\"text-align: right;\">\n",
       "      <th>category_name</th>\n",
       "      <th>Arts &amp; Photo graphy</th>\n",
       "      <th>Biographies &amp; Memoirs</th>\n",
       "      <th>Business &amp; Money</th>\n",
       "      <th>Children's eBooks</th>\n",
       "      <th>Computers &amp; Technology</th>\n",
       "      <th>Cookbooks, Food &amp; Wine</th>\n",
       "      <th>Crafts, Hobbies &amp; Home</th>\n",
       "      <th>Education &amp; Teaching</th>\n",
       "      <th>Engineering &amp; Transportation</th>\n",
       "      <th>Health, Fitness &amp; Dieting</th>\n",
       "      <th>History</th>\n",
       "      <th>Humor &amp; Entertainment</th>\n",
       "      <th>Literature &amp; Fiction</th>\n",
       "      <th>Medical</th>\n",
       "      <th>Mystery, Thriller &amp; Suspense</th>\n",
       "      <th>Nonfiction</th>\n",
       "      <th>Parenting &amp; Relationships</th>\n",
       "      <th>Politics &amp; Social Sciences</th>\n",
       "      <th>Reference</th>\n",
       "      <th>Religion &amp; Spirituality</th>\n",
       "      <th>Science &amp; Math</th>\n",
       "      <th>Self-Help</th>\n",
       "      <th>Teen &amp; Young Adult</th>\n",
       "      <th>Travel</th>\n",
       "      <th>Law</th>\n",
       "      <th>Romance</th>\n",
       "      <th>Sports &amp; Outdoors</th>\n",
       "      <th>Foreign Language</th>\n",
       "      <th>LGBTQ+ eBooks</th>\n",
       "      <th>Science Fiction &amp; Fantasy</th>\n",
       "    </tr>\n",
       "  </thead>\n",
       "  <tbody>\n",
       "    <tr>\n",
       "      <th>2019</th>\n",
       "      <td>3.529412</td>\n",
       "      <td>4.705882</td>\n",
       "      <td>7.058824</td>\n",
       "      <td>11.764706</td>\n",
       "      <td>3.529412</td>\n",
       "      <td>5.882353</td>\n",
       "      <td>5.882353</td>\n",
       "      <td>1.176471</td>\n",
       "      <td>3.529412</td>\n",
       "      <td>3.529412</td>\n",
       "      <td>3.529412</td>\n",
       "      <td>1.176471</td>\n",
       "      <td>3.529412</td>\n",
       "      <td>3.529412</td>\n",
       "      <td>2.352941</td>\n",
       "      <td>4.705882</td>\n",
       "      <td>2.352941</td>\n",
       "      <td>7.058824</td>\n",
       "      <td>1.176471</td>\n",
       "      <td>2.352941</td>\n",
       "      <td>11.764706</td>\n",
       "      <td>1.176471</td>\n",
       "      <td>2.352941</td>\n",
       "      <td>2.352941</td>\n",
       "      <td>NaN</td>\n",
       "      <td>NaN</td>\n",
       "      <td>NaN</td>\n",
       "      <td>NaN</td>\n",
       "      <td>NaN</td>\n",
       "      <td>NaN</td>\n",
       "    </tr>\n",
       "    <tr>\n",
       "      <th>2020</th>\n",
       "      <td>1.960784</td>\n",
       "      <td>7.843137</td>\n",
       "      <td>4.901961</td>\n",
       "      <td>7.843137</td>\n",
       "      <td>2.941176</td>\n",
       "      <td>2.941176</td>\n",
       "      <td>5.882353</td>\n",
       "      <td>3.921569</td>\n",
       "      <td>4.901961</td>\n",
       "      <td>1.960784</td>\n",
       "      <td>1.960784</td>\n",
       "      <td>NaN</td>\n",
       "      <td>0.980392</td>\n",
       "      <td>0.980392</td>\n",
       "      <td>0.980392</td>\n",
       "      <td>1.960784</td>\n",
       "      <td>2.941176</td>\n",
       "      <td>2.941176</td>\n",
       "      <td>2.941176</td>\n",
       "      <td>7.843137</td>\n",
       "      <td>15.686275</td>\n",
       "      <td>1.960784</td>\n",
       "      <td>4.901961</td>\n",
       "      <td>3.921569</td>\n",
       "      <td>3.921569</td>\n",
       "      <td>0.980392</td>\n",
       "      <td>NaN</td>\n",
       "      <td>NaN</td>\n",
       "      <td>NaN</td>\n",
       "      <td>NaN</td>\n",
       "    </tr>\n",
       "    <tr>\n",
       "      <th>2021</th>\n",
       "      <td>2.777778</td>\n",
       "      <td>6.944444</td>\n",
       "      <td>2.777778</td>\n",
       "      <td>8.333333</td>\n",
       "      <td>4.166667</td>\n",
       "      <td>6.250000</td>\n",
       "      <td>13.194444</td>\n",
       "      <td>2.083333</td>\n",
       "      <td>4.166667</td>\n",
       "      <td>2.083333</td>\n",
       "      <td>0.694444</td>\n",
       "      <td>0.694444</td>\n",
       "      <td>2.777778</td>\n",
       "      <td>0.694444</td>\n",
       "      <td>2.083333</td>\n",
       "      <td>0.694444</td>\n",
       "      <td>5.555556</td>\n",
       "      <td>3.472222</td>\n",
       "      <td>1.388889</td>\n",
       "      <td>2.777778</td>\n",
       "      <td>13.888889</td>\n",
       "      <td>0.694444</td>\n",
       "      <td>2.777778</td>\n",
       "      <td>6.944444</td>\n",
       "      <td>1.388889</td>\n",
       "      <td>NaN</td>\n",
       "      <td>0.694444</td>\n",
       "      <td>NaN</td>\n",
       "      <td>NaN</td>\n",
       "      <td>NaN</td>\n",
       "    </tr>\n",
       "    <tr>\n",
       "      <th>2022</th>\n",
       "      <td>3.846154</td>\n",
       "      <td>2.884615</td>\n",
       "      <td>2.403846</td>\n",
       "      <td>8.173077</td>\n",
       "      <td>4.326923</td>\n",
       "      <td>3.846154</td>\n",
       "      <td>4.807692</td>\n",
       "      <td>2.884615</td>\n",
       "      <td>2.884615</td>\n",
       "      <td>2.403846</td>\n",
       "      <td>1.923077</td>\n",
       "      <td>2.403846</td>\n",
       "      <td>4.326923</td>\n",
       "      <td>0.961538</td>\n",
       "      <td>1.442308</td>\n",
       "      <td>0.961538</td>\n",
       "      <td>3.846154</td>\n",
       "      <td>6.250000</td>\n",
       "      <td>3.846154</td>\n",
       "      <td>6.730769</td>\n",
       "      <td>11.057692</td>\n",
       "      <td>0.961538</td>\n",
       "      <td>2.403846</td>\n",
       "      <td>13.461538</td>\n",
       "      <td>0.961538</td>\n",
       "      <td>NaN</td>\n",
       "      <td>NaN</td>\n",
       "      <td>NaN</td>\n",
       "      <td>NaN</td>\n",
       "      <td>NaN</td>\n",
       "    </tr>\n",
       "    <tr>\n",
       "      <th>2023</th>\n",
       "      <td>2.849741</td>\n",
       "      <td>9.844560</td>\n",
       "      <td>5.181347</td>\n",
       "      <td>5.958549</td>\n",
       "      <td>3.108808</td>\n",
       "      <td>4.404145</td>\n",
       "      <td>3.367876</td>\n",
       "      <td>2.590674</td>\n",
       "      <td>1.813472</td>\n",
       "      <td>3.108808</td>\n",
       "      <td>2.590674</td>\n",
       "      <td>1.554404</td>\n",
       "      <td>9.067358</td>\n",
       "      <td>0.518135</td>\n",
       "      <td>4.663212</td>\n",
       "      <td>3.367876</td>\n",
       "      <td>1.554404</td>\n",
       "      <td>6.735751</td>\n",
       "      <td>1.813472</td>\n",
       "      <td>7.512953</td>\n",
       "      <td>7.253886</td>\n",
       "      <td>2.590674</td>\n",
       "      <td>2.849741</td>\n",
       "      <td>1.554404</td>\n",
       "      <td>0.518135</td>\n",
       "      <td>0.518135</td>\n",
       "      <td>0.259067</td>\n",
       "      <td>0.259067</td>\n",
       "      <td>1.813472</td>\n",
       "      <td>0.777202</td>\n",
       "    </tr>\n",
       "  </tbody>\n",
       "</table>\n",
       "</div>"
      ],
      "text/plain": [
       "category_name  Arts & Photo graphy  Biographies & Memoirs  Business & Money  \\\n",
       "2019                      3.529412               4.705882          7.058824   \n",
       "2020                      1.960784               7.843137          4.901961   \n",
       "2021                      2.777778               6.944444          2.777778   \n",
       "2022                      3.846154               2.884615          2.403846   \n",
       "2023                      2.849741               9.844560          5.181347   \n",
       "\n",
       "category_name  Children's eBooks  Computers & Technology  \\\n",
       "2019                   11.764706                3.529412   \n",
       "2020                    7.843137                2.941176   \n",
       "2021                    8.333333                4.166667   \n",
       "2022                    8.173077                4.326923   \n",
       "2023                    5.958549                3.108808   \n",
       "\n",
       "category_name  Cookbooks, Food & Wine  Crafts, Hobbies & Home  \\\n",
       "2019                         5.882353                5.882353   \n",
       "2020                         2.941176                5.882353   \n",
       "2021                         6.250000               13.194444   \n",
       "2022                         3.846154                4.807692   \n",
       "2023                         4.404145                3.367876   \n",
       "\n",
       "category_name  Education & Teaching  Engineering & Transportation  \\\n",
       "2019                       1.176471                      3.529412   \n",
       "2020                       3.921569                      4.901961   \n",
       "2021                       2.083333                      4.166667   \n",
       "2022                       2.884615                      2.884615   \n",
       "2023                       2.590674                      1.813472   \n",
       "\n",
       "category_name  Health, Fitness & Dieting   History  Humor & Entertainment  \\\n",
       "2019                            3.529412  3.529412               1.176471   \n",
       "2020                            1.960784  1.960784                    NaN   \n",
       "2021                            2.083333  0.694444               0.694444   \n",
       "2022                            2.403846  1.923077               2.403846   \n",
       "2023                            3.108808  2.590674               1.554404   \n",
       "\n",
       "category_name  Literature & Fiction   Medical  Mystery, Thriller & Suspense  \\\n",
       "2019                       3.529412  3.529412                      2.352941   \n",
       "2020                       0.980392  0.980392                      0.980392   \n",
       "2021                       2.777778  0.694444                      2.083333   \n",
       "2022                       4.326923  0.961538                      1.442308   \n",
       "2023                       9.067358  0.518135                      4.663212   \n",
       "\n",
       "category_name  Nonfiction  Parenting & Relationships  \\\n",
       "2019             4.705882                   2.352941   \n",
       "2020             1.960784                   2.941176   \n",
       "2021             0.694444                   5.555556   \n",
       "2022             0.961538                   3.846154   \n",
       "2023             3.367876                   1.554404   \n",
       "\n",
       "category_name  Politics & Social Sciences  Reference  Religion & Spirituality  \\\n",
       "2019                             7.058824   1.176471                 2.352941   \n",
       "2020                             2.941176   2.941176                 7.843137   \n",
       "2021                             3.472222   1.388889                 2.777778   \n",
       "2022                             6.250000   3.846154                 6.730769   \n",
       "2023                             6.735751   1.813472                 7.512953   \n",
       "\n",
       "category_name  Science & Math  Self-Help  Teen & Young Adult     Travel  \\\n",
       "2019                11.764706   1.176471            2.352941   2.352941   \n",
       "2020                15.686275   1.960784            4.901961   3.921569   \n",
       "2021                13.888889   0.694444            2.777778   6.944444   \n",
       "2022                11.057692   0.961538            2.403846  13.461538   \n",
       "2023                 7.253886   2.590674            2.849741   1.554404   \n",
       "\n",
       "category_name       Law   Romance  Sports & Outdoors  Foreign Language  \\\n",
       "2019                NaN       NaN                NaN               NaN   \n",
       "2020           3.921569  0.980392                NaN               NaN   \n",
       "2021           1.388889       NaN           0.694444               NaN   \n",
       "2022           0.961538       NaN                NaN               NaN   \n",
       "2023           0.518135  0.518135           0.259067          0.259067   \n",
       "\n",
       "category_name  LGBTQ+ eBooks  Science Fiction & Fantasy  \n",
       "2019                     NaN                        NaN  \n",
       "2020                     NaN                        NaN  \n",
       "2021                     NaN                        NaN  \n",
       "2022                     NaN                        NaN  \n",
       "2023                1.813472                   0.777202  "
      ]
     },
     "execution_count": 379,
     "metadata": {},
     "output_type": "execute_result"
    }
   ],
   "source": [
    "df_t.head()"
   ]
  },
  {
   "cell_type": "code",
   "execution_count": 392,
   "id": "8d1d6f60",
   "metadata": {
    "scrolled": false
   },
   "outputs": [
    {
     "data": {
      "text/plain": [
       "<Axes: >"
      ]
     },
     "execution_count": 392,
     "metadata": {},
     "output_type": "execute_result"
    },
    {
     "data": {
      "image/png": "[encoded data removed]",
      "text/plain": [
       "<Figure size 640x480 with 1 Axes>"
      ]
     },
     "metadata": {},
     "output_type": "display_data"
    }
   ],
   "source": [
    "df_t[[\"Literature & Fiction\",'Biographies & Memoirs']].plot()"
   ]
  },
  {
   "cell_type": "markdown",
   "id": "a089fac5",
   "metadata": {},
   "source": [
    "### \"Literature & Fiction\" and \"Biographies & Memoirs\" categories seem to follow an upward trend"
   ]
  },
  {
   "cell_type": "code",
   "execution_count": 394,
   "id": "804a777c",
   "metadata": {
    "scrolled": true
   },
   "outputs": [
    {
     "data": {
      "text/plain": [
       "<Axes: >"
      ]
     },
     "execution_count": 394,
     "metadata": {},
     "output_type": "execute_result"
    },
    {
     "data": {
      "image/png": "[encoded data removed]",
      "text/plain": [
       "<Figure size 640x480 with 1 Axes>"
      ]
     },
     "metadata": {},
     "output_type": "display_data"
    }
   ],
   "source": [
    "df_t[[\"Science & Math\",\"Children's eBooks\"]].plot()"
   ]
  },
  {
   "cell_type": "markdown",
   "id": "b0f20263",
   "metadata": {},
   "source": [
    "### \"Science & Math\" and \"Children's eBooks\" categories seem to follow a downward trend"
   ]
  },
  {
   "cell_type": "markdown",
   "id": "d467dbb6",
   "metadata": {},
   "source": [
    "# ---------------------------------------------------------------------------------------------------------\n",
    "# THE END"
   ]
  },
  {
   "cell_type": "code",
   "execution_count": null,
   "id": "bd0cf16e",
   "metadata": {},
   "outputs": [],
   "source": []
  },
  {
   "cell_type": "code",
   "execution_count": null,
   "id": "27588218",
   "metadata": {},
   "outputs": [],
   "source": []
  },
  {
   "cell_type": "code",
   "execution_count": null,
   "id": "ae182056",
   "metadata": {},
   "outputs": [],
   "source": []
  },
  {
   "cell_type": "code",
   "execution_count": null,
   "id": "d783dd7d",
   "metadata": {},
   "outputs": [],
   "source": []
  },
  {
   "cell_type": "code",
   "execution_count": null,
   "id": "7edbe5cf",
   "metadata": {},
   "outputs": [],
   "source": []
  }
 ],
 "metadata": {
  "kernelspec": {
   "display_name": "Python 3 (ipykernel)",
   "language": "python",
   "name": "python3"
  },
  "language_info": {
   "codemirror_mode": {
    "name": "ipython",
    "version": 3
   },
   "file_extension": ".py",
   "mimetype": "text/x-python",
   "name": "python",
   "nbconvert_exporter": "python",
   "pygments_lexer": "ipython3",
   "version": "3.11.4"
  }
 },
 "nbformat": 4,
 "nbformat_minor": 5
}
